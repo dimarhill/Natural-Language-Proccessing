{
 "cells": [
  {
   "cell_type": "markdown",
   "id": "baeb1763",
   "metadata": {},
   "source": [
    "# NBA vs NFL Subreddit Part 1 - Data Collection \n",
    "---\n",
    "\n",
    "_Author: Matthew Hill_"
   ]
  },
  {
   "cell_type": "markdown",
   "id": "b528e61a",
   "metadata": {},
   "source": [
    "### Imports\n",
    "---"
   ]
  },
  {
   "cell_type": "code",
   "execution_count": 3,
   "id": "9d10b903",
   "metadata": {},
   "outputs": [],
   "source": [
    "import requests\n",
    "import pandas as pd\n",
    "import matplotlib.pyplot as plt\n",
    "from sklearn.model_selection import train_test_split, GridSearchCV, cross_val_score\n",
    "from sklearn.pipeline import Pipeline\n",
    "from sklearn.naive_bayes import MultinomialNB\n",
    "from sklearn.linear_model import LogisticRegression\n",
    "from sklearn.metrics import confusion_matrix, plot_confusion_matrix\n",
    "from nltk.stem import WordNetLemmatizer\n",
    "\n",
    "import nltk\n",
    "from nltk.tokenize import sent_tokenize, word_tokenize, RegexpTokenizer\n",
    "from nltk.stem import PorterStemmer, WordNetLemmatizer\n",
    "from nltk.corpus import stopwords, wordnet\n",
    "from nltk.sentiment.vader import SentimentIntensityAnalyzer\n",
    "\n",
    "\n",
    "# Import CountVectorizer and TFIDFVectorizer from feature_extraction.text.\n",
    "from sklearn.feature_extraction.text import CountVectorizer, TfidfVectorizer"
   ]
  },
  {
   "cell_type": "markdown",
   "id": "a349fee9",
   "metadata": {},
   "source": [
    "### Data Gathering\n",
    "---"
   ]
  },
  {
   "cell_type": "markdown",
   "id": "ea67706f",
   "metadata": {},
   "source": [
    "#### Using Pushsift's API"
   ]
  },
  {
   "cell_type": "code",
   "execution_count": 4,
   "id": "6255c1d5",
   "metadata": {},
   "outputs": [],
   "source": [
    "url = 'https://api.pushshift.io/reddit/search/submission'"
   ]
  },
  {
   "cell_type": "code",
   "execution_count": 5,
   "id": "0072cec5",
   "metadata": {},
   "outputs": [],
   "source": [
    "params = {'subreddit': 'nba',\n",
    "         'size': 500,\n",
    "         'before': 1666302682}"
   ]
  },
  {
   "cell_type": "code",
   "execution_count": 6,
   "id": "d36723b5",
   "metadata": {},
   "outputs": [],
   "source": [
    "params2 = {'subreddit': 'nfl',\n",
    "         'size': 500,\n",
    "         'before': 1666302682}"
   ]
  },
  {
   "cell_type": "code",
   "execution_count": 7,
   "id": "792dfac9",
   "metadata": {},
   "outputs": [],
   "source": [
    "params3 = {'subreddit': 'nba',\n",
    "         'size': 500,\n",
    "         'after': 1666302682}"
   ]
  },
  {
   "cell_type": "code",
   "execution_count": 8,
   "id": "a8b699e6",
   "metadata": {},
   "outputs": [],
   "source": [
    "params4 = {'subreddit': 'nfl',\n",
    "         'size': 500,\n",
    "         'after': 1666302682}"
   ]
  },
  {
   "cell_type": "code",
   "execution_count": 9,
   "id": "4148832d",
   "metadata": {},
   "outputs": [],
   "source": [
    "params5 = {'subreddit': 'nba',\n",
    "         'size': 500,\n",
    "         'before': 1666502682}"
   ]
  },
  {
   "cell_type": "code",
   "execution_count": 10,
   "id": "d746f06c",
   "metadata": {},
   "outputs": [],
   "source": [
    "params6 = {'subreddit': 'nfl',\n",
    "         'size': 500,\n",
    "         'before': 1666502682}"
   ]
  },
  {
   "cell_type": "code",
   "execution_count": 11,
   "id": "288fdc43",
   "metadata": {},
   "outputs": [],
   "source": [
    "params7 = {'subreddit': 'nba',\n",
    "         'size': 500,\n",
    "         'before': 1666644209}"
   ]
  },
  {
   "cell_type": "code",
   "execution_count": 12,
   "id": "8a26f53d",
   "metadata": {},
   "outputs": [],
   "source": [
    "params8 = {'subreddit': 'nfl',\n",
    "         'size': 500,\n",
    "         'before': 1666644209}"
   ]
  },
  {
   "cell_type": "markdown",
   "id": "916278c0",
   "metadata": {},
   "source": [
    "###  Using Request Library"
   ]
  },
  {
   "cell_type": "code",
   "execution_count": 13,
   "id": "64136a97",
   "metadata": {},
   "outputs": [],
   "source": [
    "res = requests.get(url, params)"
   ]
  },
  {
   "cell_type": "code",
   "execution_count": 14,
   "id": "11aeef11",
   "metadata": {},
   "outputs": [],
   "source": [
    "res2 = requests.get(url, params2)"
   ]
  },
  {
   "cell_type": "code",
   "execution_count": 15,
   "id": "6b57f758",
   "metadata": {},
   "outputs": [],
   "source": [
    "res3 = requests.get(url, params3)"
   ]
  },
  {
   "cell_type": "code",
   "execution_count": 16,
   "id": "89bc9e29",
   "metadata": {},
   "outputs": [],
   "source": [
    "res4 = requests.get(url, params4)"
   ]
  },
  {
   "cell_type": "code",
   "execution_count": 17,
   "id": "8578ca90",
   "metadata": {},
   "outputs": [],
   "source": [
    "res5 = requests.get(url, params5)"
   ]
  },
  {
   "cell_type": "code",
   "execution_count": 18,
   "id": "7b6a3c71",
   "metadata": {},
   "outputs": [],
   "source": [
    "res6 = requests.get(url, params6)"
   ]
  },
  {
   "cell_type": "code",
   "execution_count": 19,
   "id": "f30a1421",
   "metadata": {},
   "outputs": [],
   "source": [
    "res7 = requests.get(url, params7)"
   ]
  },
  {
   "cell_type": "code",
   "execution_count": 20,
   "id": "2f92e6ee",
   "metadata": {},
   "outputs": [],
   "source": [
    "res8 = requests.get(url, params8)"
   ]
  },
  {
   "cell_type": "markdown",
   "id": "bdf93633",
   "metadata": {},
   "source": [
    "### Status Codes"
   ]
  },
  {
   "cell_type": "code",
   "execution_count": 21,
   "id": "c07ee26c",
   "metadata": {},
   "outputs": [
    {
     "data": {
      "text/plain": [
       "200"
      ]
     },
     "execution_count": 21,
     "metadata": {},
     "output_type": "execute_result"
    }
   ],
   "source": [
    "res.status_code"
   ]
  },
  {
   "cell_type": "code",
   "execution_count": 22,
   "id": "517dab79",
   "metadata": {},
   "outputs": [
    {
     "data": {
      "text/plain": [
       "200"
      ]
     },
     "execution_count": 22,
     "metadata": {},
     "output_type": "execute_result"
    }
   ],
   "source": [
    "res2.status_code"
   ]
  },
  {
   "cell_type": "code",
   "execution_count": 23,
   "id": "776cefaa",
   "metadata": {},
   "outputs": [
    {
     "data": {
      "text/plain": [
       "200"
      ]
     },
     "execution_count": 23,
     "metadata": {},
     "output_type": "execute_result"
    }
   ],
   "source": [
    "res3.status_code"
   ]
  },
  {
   "cell_type": "code",
   "execution_count": 24,
   "id": "8b4becae",
   "metadata": {},
   "outputs": [
    {
     "data": {
      "text/plain": [
       "200"
      ]
     },
     "execution_count": 24,
     "metadata": {},
     "output_type": "execute_result"
    }
   ],
   "source": [
    "res4.status_code"
   ]
  },
  {
   "cell_type": "code",
   "execution_count": 25,
   "id": "19feb697",
   "metadata": {},
   "outputs": [
    {
     "data": {
      "text/plain": [
       "200"
      ]
     },
     "execution_count": 25,
     "metadata": {},
     "output_type": "execute_result"
    }
   ],
   "source": [
    "res5.status_code"
   ]
  },
  {
   "cell_type": "code",
   "execution_count": 26,
   "id": "feb055fd",
   "metadata": {},
   "outputs": [
    {
     "data": {
      "text/plain": [
       "200"
      ]
     },
     "execution_count": 26,
     "metadata": {},
     "output_type": "execute_result"
    }
   ],
   "source": [
    "res6.status_code"
   ]
  },
  {
   "cell_type": "code",
   "execution_count": 27,
   "id": "652aa514",
   "metadata": {},
   "outputs": [
    {
     "data": {
      "text/plain": [
       "200"
      ]
     },
     "execution_count": 27,
     "metadata": {},
     "output_type": "execute_result"
    }
   ],
   "source": [
    "res7.status_code"
   ]
  },
  {
   "cell_type": "code",
   "execution_count": 28,
   "id": "9e8f78a8",
   "metadata": {},
   "outputs": [
    {
     "data": {
      "text/plain": [
       "200"
      ]
     },
     "execution_count": 28,
     "metadata": {},
     "output_type": "execute_result"
    }
   ],
   "source": [
    "res8.status_code"
   ]
  },
  {
   "cell_type": "markdown",
   "id": "a35dc2d2",
   "metadata": {},
   "source": [
    "### Gathering Data with JSON Format"
   ]
  },
  {
   "cell_type": "code",
   "execution_count": 29,
   "id": "bb16554a",
   "metadata": {},
   "outputs": [],
   "source": [
    "data = res.json()"
   ]
  },
  {
   "cell_type": "code",
   "execution_count": 30,
   "id": "10f79c7c",
   "metadata": {},
   "outputs": [],
   "source": [
    "data2 = res2.json()"
   ]
  },
  {
   "cell_type": "code",
   "execution_count": 31,
   "id": "4cd56b55",
   "metadata": {},
   "outputs": [],
   "source": [
    "data3 = res3.json()"
   ]
  },
  {
   "cell_type": "code",
   "execution_count": 32,
   "id": "d43074eb",
   "metadata": {},
   "outputs": [],
   "source": [
    "data4 = res4.json()"
   ]
  },
  {
   "cell_type": "code",
   "execution_count": 33,
   "id": "53f9133b",
   "metadata": {},
   "outputs": [],
   "source": [
    "data5 = res5.json()"
   ]
  },
  {
   "cell_type": "code",
   "execution_count": 34,
   "id": "f864e688",
   "metadata": {},
   "outputs": [],
   "source": [
    "data6 = res6.json()"
   ]
  },
  {
   "cell_type": "code",
   "execution_count": 35,
   "id": "747e17f0",
   "metadata": {},
   "outputs": [],
   "source": [
    "data7 = res7.json()"
   ]
  },
  {
   "cell_type": "code",
   "execution_count": 36,
   "id": "8a77627d",
   "metadata": {},
   "outputs": [],
   "source": [
    "data8 = res8.json()"
   ]
  },
  {
   "cell_type": "code",
   "execution_count": 37,
   "id": "072ccaca",
   "metadata": {},
   "outputs": [],
   "source": [
    "posts = data['data'] + data3['data'] + data5['data'] + data7['data']"
   ]
  },
  {
   "cell_type": "code",
   "execution_count": 38,
   "id": "c0db5d4b",
   "metadata": {},
   "outputs": [],
   "source": [
    "posts2 = data2['data'] + data4['data'] + data6['data'] + data8['data']"
   ]
  },
  {
   "cell_type": "code",
   "execution_count": 39,
   "id": "b1314b07",
   "metadata": {
    "scrolled": true
   },
   "outputs": [
    {
     "data": {
      "text/plain": [
       "997"
      ]
     },
     "execution_count": 39,
     "metadata": {},
     "output_type": "execute_result"
    }
   ],
   "source": [
    "len(posts)"
   ]
  },
  {
   "cell_type": "code",
   "execution_count": 40,
   "id": "6a06fc76",
   "metadata": {},
   "outputs": [
    {
     "data": {
      "text/plain": [
       "1000"
      ]
     },
     "execution_count": 40,
     "metadata": {},
     "output_type": "execute_result"
    }
   ],
   "source": [
    "len(posts2)"
   ]
  },
  {
   "cell_type": "markdown",
   "id": "574d109a",
   "metadata": {},
   "source": [
    "###  Sample NBA Reddit Text"
   ]
  },
  {
   "cell_type": "code",
   "execution_count": 41,
   "id": "6a100e8e",
   "metadata": {},
   "outputs": [
    {
     "data": {
      "text/plain": [
       "{'all_awardings': [],\n",
       " 'allow_live_comments': False,\n",
       " 'author': 'SiX_Paths-Madara',\n",
       " 'author_flair_background_color': '',\n",
       " 'author_flair_css_class': 'Thunder2',\n",
       " 'author_flair_richtext': [{'e': 'text', 't': '[OKC] Russell Westbrook'}],\n",
       " 'author_flair_text': '[OKC] Russell Westbrook',\n",
       " 'author_flair_text_color': 'dark',\n",
       " 'author_flair_type': 'richtext',\n",
       " 'author_fullname': 't2_eeagp8k',\n",
       " 'author_is_blocked': False,\n",
       " 'author_patreon_flair': False,\n",
       " 'author_premium': False,\n",
       " 'awarders': [],\n",
       " 'can_mod_post': False,\n",
       " 'contest_mode': False,\n",
       " 'created_utc': 1666301949,\n",
       " 'domain': 'youtu.be',\n",
       " 'full_link': 'https://www.reddit.com/r/nba/comments/y9at70/202223_lakers_season_begins_narrated_by_lebron/',\n",
       " 'gildings': {},\n",
       " 'id': 'y9at70',\n",
       " 'is_created_from_ads_ui': False,\n",
       " 'is_crosspostable': True,\n",
       " 'is_meta': False,\n",
       " 'is_original_content': False,\n",
       " 'is_reddit_media_domain': False,\n",
       " 'is_robot_indexable': True,\n",
       " 'is_self': False,\n",
       " 'is_video': False,\n",
       " 'link_flair_background_color': '',\n",
       " 'link_flair_richtext': [],\n",
       " 'link_flair_text_color': 'dark',\n",
       " 'link_flair_type': 'text',\n",
       " 'locked': False,\n",
       " 'media': {'oembed': {'author_name': 'Los Angeles Lakers',\n",
       "   'author_url': 'https://www.youtube.com/c/lakers',\n",
       "   'height': 200,\n",
       "   'html': '&lt;iframe width=\"356\" height=\"200\" src=\"https://www.youtube.com/embed/RK1IcveBFZ8?feature=oembed&amp;enablejsapi=1\" frameborder=\"0\" allow=\"accelerometer; autoplay; clipboard-write; encrypted-media; gyroscope; picture-in-picture\" allowfullscreen title=\"2022-23 Lakers Season Begins — Narrated by LeBron James\"&gt;&lt;/iframe&gt;',\n",
       "   'provider_name': 'YouTube',\n",
       "   'provider_url': 'https://www.youtube.com/',\n",
       "   'thumbnail_height': 360,\n",
       "   'thumbnail_url': 'https://i.ytimg.com/vi/RK1IcveBFZ8/hqdefault.jpg',\n",
       "   'thumbnail_width': 480,\n",
       "   'title': '2022-23 Lakers Season Begins — Narrated by LeBron James',\n",
       "   'type': 'video',\n",
       "   'version': '1.0',\n",
       "   'width': 356},\n",
       "  'type': 'youtube.com'},\n",
       " 'media_embed': {'content': '&lt;iframe width=\"356\" height=\"200\" src=\"https://www.youtube.com/embed/RK1IcveBFZ8?feature=oembed&amp;enablejsapi=1\" frameborder=\"0\" allow=\"accelerometer; autoplay; clipboard-write; encrypted-media; gyroscope; picture-in-picture\" allowfullscreen title=\"2022-23 Lakers Season Begins — Narrated by LeBron James\"&gt;&lt;/iframe&gt;',\n",
       "  'height': 200,\n",
       "  'scrolling': False,\n",
       "  'width': 356},\n",
       " 'media_only': False,\n",
       " 'no_follow': True,\n",
       " 'num_comments': 0,\n",
       " 'num_crossposts': 0,\n",
       " 'over_18': False,\n",
       " 'parent_whitelist_status': 'all_ads',\n",
       " 'permalink': '/r/nba/comments/y9at70/202223_lakers_season_begins_narrated_by_lebron/',\n",
       " 'pinned': False,\n",
       " 'post_hint': 'rich:video',\n",
       " 'preview': {'enabled': False,\n",
       "  'images': [{'id': '2kvbv8JHu0PN9WJrffx6KCw3KcBQo0acsUfPGix5RL8',\n",
       "    'resolutions': [{'height': 81,\n",
       "      'url': 'https://external-preview.redd.it/DfreHIJK9tJkz1lVWOB8bz9_XDaUjdkW22dghuSwXgI.jpg?width=108&amp;crop=smart&amp;auto=webp&amp;s=9473829b1e2271ea37cc7b28a6a23d4efc2f3ec9',\n",
       "      'width': 108},\n",
       "     {'height': 162,\n",
       "      'url': 'https://external-preview.redd.it/DfreHIJK9tJkz1lVWOB8bz9_XDaUjdkW22dghuSwXgI.jpg?width=216&amp;crop=smart&amp;auto=webp&amp;s=e9376291152efdae56bd2d72286695029aecfc2e',\n",
       "      'width': 216},\n",
       "     {'height': 240,\n",
       "      'url': 'https://external-preview.redd.it/DfreHIJK9tJkz1lVWOB8bz9_XDaUjdkW22dghuSwXgI.jpg?width=320&amp;crop=smart&amp;auto=webp&amp;s=fdb08b719f9d1a748e3181a5db31e8a5d0bf0553',\n",
       "      'width': 320}],\n",
       "    'source': {'height': 360,\n",
       "     'url': 'https://external-preview.redd.it/DfreHIJK9tJkz1lVWOB8bz9_XDaUjdkW22dghuSwXgI.jpg?auto=webp&amp;s=9720894056cc0cd1dd9b372117f492918e4c5da8',\n",
       "     'width': 480},\n",
       "    'variants': {}}]},\n",
       " 'pwls': 6,\n",
       " 'retrieved_on': 1666301960,\n",
       " 'score': 1,\n",
       " 'secure_media': {'oembed': {'author_name': 'Los Angeles Lakers',\n",
       "   'author_url': 'https://www.youtube.com/c/lakers',\n",
       "   'height': 200,\n",
       "   'html': '&lt;iframe width=\"356\" height=\"200\" src=\"https://www.youtube.com/embed/RK1IcveBFZ8?feature=oembed&amp;enablejsapi=1\" frameborder=\"0\" allow=\"accelerometer; autoplay; clipboard-write; encrypted-media; gyroscope; picture-in-picture\" allowfullscreen title=\"2022-23 Lakers Season Begins — Narrated by LeBron James\"&gt;&lt;/iframe&gt;',\n",
       "   'provider_name': 'YouTube',\n",
       "   'provider_url': 'https://www.youtube.com/',\n",
       "   'thumbnail_height': 360,\n",
       "   'thumbnail_url': 'https://i.ytimg.com/vi/RK1IcveBFZ8/hqdefault.jpg',\n",
       "   'thumbnail_width': 480,\n",
       "   'title': '2022-23 Lakers Season Begins — Narrated by LeBron James',\n",
       "   'type': 'video',\n",
       "   'version': '1.0',\n",
       "   'width': 356},\n",
       "  'type': 'youtube.com'},\n",
       " 'secure_media_embed': {'content': '&lt;iframe width=\"356\" height=\"200\" src=\"https://www.youtube.com/embed/RK1IcveBFZ8?feature=oembed&amp;enablejsapi=1\" frameborder=\"0\" allow=\"accelerometer; autoplay; clipboard-write; encrypted-media; gyroscope; picture-in-picture\" allowfullscreen title=\"2022-23 Lakers Season Begins — Narrated by LeBron James\"&gt;&lt;/iframe&gt;',\n",
       "  'height': 200,\n",
       "  'media_domain_url': 'https://www.redditmedia.com/mediaembed/y9at70',\n",
       "  'scrolling': False,\n",
       "  'width': 356},\n",
       " 'selftext': '',\n",
       " 'send_replies': False,\n",
       " 'spoiler': False,\n",
       " 'stickied': False,\n",
       " 'subreddit': 'nba',\n",
       " 'subreddit_id': 't5_2qo4s',\n",
       " 'subreddit_subscribers': 5352036,\n",
       " 'subreddit_type': 'public',\n",
       " 'thumbnail': 'https://b.thumbs.redditmedia.com/YF5ONr8gdQ6z7Zd58Gi0RdZ4qGEKCjteXccYV9imNCE.jpg',\n",
       " 'thumbnail_height': 105,\n",
       " 'thumbnail_width': 140,\n",
       " 'title': '2022-23 Lakers Season Begins — Narrated by LeBron James',\n",
       " 'total_awards_received': 0,\n",
       " 'treatment_tags': [],\n",
       " 'upvote_ratio': 1.0,\n",
       " 'url': 'https://youtu.be/RK1IcveBFZ8',\n",
       " 'url_overridden_by_dest': 'https://youtu.be/RK1IcveBFZ8',\n",
       " 'whitelist_status': 'all_ads',\n",
       " 'wls': 6}"
      ]
     },
     "execution_count": 41,
     "metadata": {},
     "output_type": "execute_result"
    }
   ],
   "source": [
    "posts[0]"
   ]
  },
  {
   "cell_type": "markdown",
   "id": "c8dd9629",
   "metadata": {},
   "source": [
    "###  Sample NFL Reddit Text"
   ]
  },
  {
   "cell_type": "code",
   "execution_count": 42,
   "id": "1d313085",
   "metadata": {
    "scrolled": true
   },
   "outputs": [
    {
     "data": {
      "text/plain": [
       "{'all_awardings': [],\n",
       " 'allow_live_comments': False,\n",
       " 'author': 'ArizonaMadeDank',\n",
       " 'author_flair_css_class': None,\n",
       " 'author_flair_richtext': [],\n",
       " 'author_flair_text': None,\n",
       " 'author_flair_type': 'text',\n",
       " 'author_fullname': 't2_2t1kgdc0',\n",
       " 'author_is_blocked': False,\n",
       " 'author_patreon_flair': False,\n",
       " 'author_premium': False,\n",
       " 'awarders': [],\n",
       " 'can_mod_post': False,\n",
       " 'contest_mode': False,\n",
       " 'created_utc': 1666301726,\n",
       " 'domain': 'i.redd.it',\n",
       " 'full_link': 'https://www.reddit.com/r/nfl/comments/y9apwj/the_true_reason_were_all_excited_for_tnf/',\n",
       " 'gildings': {},\n",
       " 'id': 'y9apwj',\n",
       " 'is_created_from_ads_ui': False,\n",
       " 'is_crosspostable': False,\n",
       " 'is_meta': False,\n",
       " 'is_original_content': False,\n",
       " 'is_reddit_media_domain': True,\n",
       " 'is_robot_indexable': False,\n",
       " 'is_self': False,\n",
       " 'is_video': False,\n",
       " 'link_flair_background_color': '',\n",
       " 'link_flair_richtext': [],\n",
       " 'link_flair_text_color': 'dark',\n",
       " 'link_flair_type': 'text',\n",
       " 'locked': False,\n",
       " 'media_only': False,\n",
       " 'no_follow': True,\n",
       " 'num_comments': 0,\n",
       " 'num_crossposts': 0,\n",
       " 'over_18': False,\n",
       " 'parent_whitelist_status': 'all_ads',\n",
       " 'permalink': '/r/nfl/comments/y9apwj/the_true_reason_were_all_excited_for_tnf/',\n",
       " 'pinned': False,\n",
       " 'post_hint': 'image',\n",
       " 'preview': {'enabled': True,\n",
       "  'images': [{'id': 'V1GHQzCA5fQCuOfyJWDbdWZLxHTS6DaEfmaq1ZlnaYk',\n",
       "    'resolutions': [{'height': 108,\n",
       "      'url': 'https://preview.redd.it/vwe7efq041v91.png?width=108&amp;crop=smart&amp;auto=webp&amp;s=184da91a67d1f8ec807e87b244d1937bf60fed26',\n",
       "      'width': 108},\n",
       "     {'height': 216,\n",
       "      'url': 'https://preview.redd.it/vwe7efq041v91.png?width=216&amp;crop=smart&amp;auto=webp&amp;s=7451faf9f758608119d504de092195ac08d8427d',\n",
       "      'width': 216},\n",
       "     {'height': 320,\n",
       "      'url': 'https://preview.redd.it/vwe7efq041v91.png?width=320&amp;crop=smart&amp;auto=webp&amp;s=ec5231196245c79f83bdf313f7f32e3ab028d8cd',\n",
       "      'width': 320},\n",
       "     {'height': 640,\n",
       "      'url': 'https://preview.redd.it/vwe7efq041v91.png?width=640&amp;crop=smart&amp;auto=webp&amp;s=416ac692d10420f0f1186a5be7429ea40bedc53c',\n",
       "      'width': 640},\n",
       "     {'height': 960,\n",
       "      'url': 'https://preview.redd.it/vwe7efq041v91.png?width=960&amp;crop=smart&amp;auto=webp&amp;s=a98449bbc9f933c9dd541fe03a94fcb4b99938d0',\n",
       "      'width': 960},\n",
       "     {'height': 1080,\n",
       "      'url': 'https://preview.redd.it/vwe7efq041v91.png?width=1080&amp;crop=smart&amp;auto=webp&amp;s=e0968be5099deb870796d0de210505a07c4ae94c',\n",
       "      'width': 1080}],\n",
       "    'source': {'height': 1200,\n",
       "     'url': 'https://preview.redd.it/vwe7efq041v91.png?auto=webp&amp;s=12b4ed348992b69d9aa8ba931999b2b591656e0a',\n",
       "     'width': 1200},\n",
       "    'variants': {}}]},\n",
       " 'pwls': 6,\n",
       " 'removed_by_category': 'reddit',\n",
       " 'retrieved_on': 1666301737,\n",
       " 'score': 1,\n",
       " 'selftext': '',\n",
       " 'send_replies': True,\n",
       " 'spoiler': False,\n",
       " 'stickied': False,\n",
       " 'subreddit': 'nfl',\n",
       " 'subreddit_id': 't5_2qmg3',\n",
       " 'subreddit_subscribers': 3019363,\n",
       " 'subreddit_type': 'public',\n",
       " 'thumbnail': 'image',\n",
       " 'thumbnail_height': 140,\n",
       " 'thumbnail_width': 140,\n",
       " 'title': \"The true reason we're all excited for TNF\",\n",
       " 'total_awards_received': 0,\n",
       " 'treatment_tags': [],\n",
       " 'upvote_ratio': 1.0,\n",
       " 'url': 'https://i.redd.it/vwe7efq041v91.png',\n",
       " 'url_overridden_by_dest': 'https://i.redd.it/vwe7efq041v91.png',\n",
       " 'whitelist_status': 'all_ads',\n",
       " 'wls': 6}"
      ]
     },
     "execution_count": 42,
     "metadata": {},
     "output_type": "execute_result"
    }
   ],
   "source": [
    "posts2[0]"
   ]
  },
  {
   "cell_type": "markdown",
   "id": "e31710bf",
   "metadata": {},
   "source": [
    "### Creating NBA DataFrame"
   ]
  },
  {
   "cell_type": "code",
   "execution_count": 43,
   "id": "83b20af4",
   "metadata": {
    "scrolled": true
   },
   "outputs": [],
   "source": [
    "df1 = pd.DataFrame(posts)\n"
   ]
  },
  {
   "cell_type": "code",
   "execution_count": 44,
   "id": "5c0a6a86",
   "metadata": {},
   "outputs": [
    {
     "data": {
      "text/html": [
       "<div>\n",
       "<style scoped>\n",
       "    .dataframe tbody tr th:only-of-type {\n",
       "        vertical-align: middle;\n",
       "    }\n",
       "\n",
       "    .dataframe tbody tr th {\n",
       "        vertical-align: top;\n",
       "    }\n",
       "\n",
       "    .dataframe thead th {\n",
       "        text-align: right;\n",
       "    }\n",
       "</style>\n",
       "<table border=\"1\" class=\"dataframe\">\n",
       "  <thead>\n",
       "    <tr style=\"text-align: right;\">\n",
       "      <th></th>\n",
       "      <th>all_awardings</th>\n",
       "      <th>allow_live_comments</th>\n",
       "      <th>author</th>\n",
       "      <th>author_flair_background_color</th>\n",
       "      <th>author_flair_css_class</th>\n",
       "      <th>author_flair_richtext</th>\n",
       "      <th>author_flair_text</th>\n",
       "      <th>author_flair_text_color</th>\n",
       "      <th>author_flair_type</th>\n",
       "      <th>author_fullname</th>\n",
       "      <th>...</th>\n",
       "      <th>removed_by_category</th>\n",
       "      <th>author_flair_template_id</th>\n",
       "      <th>link_flair_css_class</th>\n",
       "      <th>link_flair_template_id</th>\n",
       "      <th>link_flair_text</th>\n",
       "      <th>distinguished</th>\n",
       "      <th>suggested_sort</th>\n",
       "      <th>author_cakeday</th>\n",
       "      <th>edited</th>\n",
       "      <th>banned_by</th>\n",
       "    </tr>\n",
       "  </thead>\n",
       "  <tbody>\n",
       "    <tr>\n",
       "      <th>0</th>\n",
       "      <td>[]</td>\n",
       "      <td>False</td>\n",
       "      <td>SiX_Paths-Madara</td>\n",
       "      <td></td>\n",
       "      <td>Thunder2</td>\n",
       "      <td>[{'e': 'text', 't': '[OKC] Russell Westbrook'}]</td>\n",
       "      <td>[OKC] Russell Westbrook</td>\n",
       "      <td>dark</td>\n",
       "      <td>richtext</td>\n",
       "      <td>t2_eeagp8k</td>\n",
       "      <td>...</td>\n",
       "      <td>NaN</td>\n",
       "      <td>NaN</td>\n",
       "      <td>NaN</td>\n",
       "      <td>NaN</td>\n",
       "      <td>NaN</td>\n",
       "      <td>NaN</td>\n",
       "      <td>NaN</td>\n",
       "      <td>NaN</td>\n",
       "      <td>NaN</td>\n",
       "      <td>NaN</td>\n",
       "    </tr>\n",
       "    <tr>\n",
       "      <th>1</th>\n",
       "      <td>[]</td>\n",
       "      <td>False</td>\n",
       "      <td>[deleted]</td>\n",
       "      <td></td>\n",
       "      <td>None</td>\n",
       "      <td>NaN</td>\n",
       "      <td>None</td>\n",
       "      <td>dark</td>\n",
       "      <td>NaN</td>\n",
       "      <td>NaN</td>\n",
       "      <td>...</td>\n",
       "      <td>deleted</td>\n",
       "      <td>NaN</td>\n",
       "      <td>NaN</td>\n",
       "      <td>NaN</td>\n",
       "      <td>NaN</td>\n",
       "      <td>NaN</td>\n",
       "      <td>NaN</td>\n",
       "      <td>NaN</td>\n",
       "      <td>NaN</td>\n",
       "      <td>NaN</td>\n",
       "    </tr>\n",
       "    <tr>\n",
       "      <th>2</th>\n",
       "      <td>[]</td>\n",
       "      <td>False</td>\n",
       "      <td>DRAZZILB1424</td>\n",
       "      <td>#edeff1</td>\n",
       "      <td>Magic1</td>\n",
       "      <td>[{'a': ':orl-1:', 'e': 'emoji', 'u': 'https://...</td>\n",
       "      <td>:orl-1: Magic</td>\n",
       "      <td>dark</td>\n",
       "      <td>richtext</td>\n",
       "      <td>t2_13fwme</td>\n",
       "      <td>...</td>\n",
       "      <td>NaN</td>\n",
       "      <td>d85b1fba-3feb-11e8-b7d0-0e993ebc6d5c</td>\n",
       "      <td>news</td>\n",
       "      <td>dbc12ec6-5c53-11e4-93ee-12313b0b3108</td>\n",
       "      <td>News</td>\n",
       "      <td>NaN</td>\n",
       "      <td>NaN</td>\n",
       "      <td>NaN</td>\n",
       "      <td>NaN</td>\n",
       "      <td>NaN</td>\n",
       "    </tr>\n",
       "    <tr>\n",
       "      <th>3</th>\n",
       "      <td>[]</td>\n",
       "      <td>False</td>\n",
       "      <td>Tomheza</td>\n",
       "      <td>#edeff1</td>\n",
       "      <td>Lakers1</td>\n",
       "      <td>[{'e': 'text', 't': 'Lakers'}]</td>\n",
       "      <td>Lakers</td>\n",
       "      <td>dark</td>\n",
       "      <td>richtext</td>\n",
       "      <td>t2_1rsbmfvb</td>\n",
       "      <td>...</td>\n",
       "      <td>NaN</td>\n",
       "      <td>cc0d49ae-3feb-11e8-8327-0e3e867879aa</td>\n",
       "      <td>news</td>\n",
       "      <td>dbc12ec6-5c53-11e4-93ee-12313b0b3108</td>\n",
       "      <td>News</td>\n",
       "      <td>NaN</td>\n",
       "      <td>NaN</td>\n",
       "      <td>NaN</td>\n",
       "      <td>NaN</td>\n",
       "      <td>NaN</td>\n",
       "    </tr>\n",
       "    <tr>\n",
       "      <th>4</th>\n",
       "      <td>[]</td>\n",
       "      <td>False</td>\n",
       "      <td>Tomheza</td>\n",
       "      <td>#edeff1</td>\n",
       "      <td>Lakers1</td>\n",
       "      <td>[{'e': 'text', 't': 'Lakers'}]</td>\n",
       "      <td>Lakers</td>\n",
       "      <td>dark</td>\n",
       "      <td>richtext</td>\n",
       "      <td>t2_1rsbmfvb</td>\n",
       "      <td>...</td>\n",
       "      <td>NaN</td>\n",
       "      <td>cc0d49ae-3feb-11e8-8327-0e3e867879aa</td>\n",
       "      <td>news</td>\n",
       "      <td>dbc12ec6-5c53-11e4-93ee-12313b0b3108</td>\n",
       "      <td>News</td>\n",
       "      <td>NaN</td>\n",
       "      <td>NaN</td>\n",
       "      <td>NaN</td>\n",
       "      <td>NaN</td>\n",
       "      <td>NaN</td>\n",
       "    </tr>\n",
       "  </tbody>\n",
       "</table>\n",
       "<p>5 rows × 80 columns</p>\n",
       "</div>"
      ],
      "text/plain": [
       "  all_awardings  allow_live_comments            author  \\\n",
       "0            []                False  SiX_Paths-Madara   \n",
       "1            []                False         [deleted]   \n",
       "2            []                False      DRAZZILB1424   \n",
       "3            []                False           Tomheza   \n",
       "4            []                False           Tomheza   \n",
       "\n",
       "  author_flair_background_color author_flair_css_class  \\\n",
       "0                                             Thunder2   \n",
       "1                                                 None   \n",
       "2                       #edeff1                 Magic1   \n",
       "3                       #edeff1                Lakers1   \n",
       "4                       #edeff1                Lakers1   \n",
       "\n",
       "                               author_flair_richtext        author_flair_text  \\\n",
       "0    [{'e': 'text', 't': '[OKC] Russell Westbrook'}]  [OKC] Russell Westbrook   \n",
       "1                                                NaN                     None   \n",
       "2  [{'a': ':orl-1:', 'e': 'emoji', 'u': 'https://...            :orl-1: Magic   \n",
       "3                     [{'e': 'text', 't': 'Lakers'}]                   Lakers   \n",
       "4                     [{'e': 'text', 't': 'Lakers'}]                   Lakers   \n",
       "\n",
       "  author_flair_text_color author_flair_type author_fullname  ...  \\\n",
       "0                    dark          richtext      t2_eeagp8k  ...   \n",
       "1                    dark               NaN             NaN  ...   \n",
       "2                    dark          richtext       t2_13fwme  ...   \n",
       "3                    dark          richtext     t2_1rsbmfvb  ...   \n",
       "4                    dark          richtext     t2_1rsbmfvb  ...   \n",
       "\n",
       "   removed_by_category              author_flair_template_id  \\\n",
       "0                  NaN                                   NaN   \n",
       "1              deleted                                   NaN   \n",
       "2                  NaN  d85b1fba-3feb-11e8-b7d0-0e993ebc6d5c   \n",
       "3                  NaN  cc0d49ae-3feb-11e8-8327-0e3e867879aa   \n",
       "4                  NaN  cc0d49ae-3feb-11e8-8327-0e3e867879aa   \n",
       "\n",
       "  link_flair_css_class                link_flair_template_id  link_flair_text  \\\n",
       "0                  NaN                                   NaN              NaN   \n",
       "1                  NaN                                   NaN              NaN   \n",
       "2                 news  dbc12ec6-5c53-11e4-93ee-12313b0b3108             News   \n",
       "3                 news  dbc12ec6-5c53-11e4-93ee-12313b0b3108             News   \n",
       "4                 news  dbc12ec6-5c53-11e4-93ee-12313b0b3108             News   \n",
       "\n",
       "   distinguished  suggested_sort author_cakeday edited banned_by  \n",
       "0            NaN             NaN            NaN    NaN       NaN  \n",
       "1            NaN             NaN            NaN    NaN       NaN  \n",
       "2            NaN             NaN            NaN    NaN       NaN  \n",
       "3            NaN             NaN            NaN    NaN       NaN  \n",
       "4            NaN             NaN            NaN    NaN       NaN  \n",
       "\n",
       "[5 rows x 80 columns]"
      ]
     },
     "execution_count": 44,
     "metadata": {},
     "output_type": "execute_result"
    }
   ],
   "source": [
    "df1.head()"
   ]
  },
  {
   "cell_type": "code",
   "execution_count": 45,
   "id": "febcbc06",
   "metadata": {},
   "outputs": [],
   "source": [
    "df1 = df1[['subreddit', 'selftext', 'title']]"
   ]
  },
  {
   "cell_type": "code",
   "execution_count": 46,
   "id": "01337c1a",
   "metadata": {},
   "outputs": [
    {
     "data": {
      "text/html": [
       "<div>\n",
       "<style scoped>\n",
       "    .dataframe tbody tr th:only-of-type {\n",
       "        vertical-align: middle;\n",
       "    }\n",
       "\n",
       "    .dataframe tbody tr th {\n",
       "        vertical-align: top;\n",
       "    }\n",
       "\n",
       "    .dataframe thead th {\n",
       "        text-align: right;\n",
       "    }\n",
       "</style>\n",
       "<table border=\"1\" class=\"dataframe\">\n",
       "  <thead>\n",
       "    <tr style=\"text-align: right;\">\n",
       "      <th></th>\n",
       "      <th>subreddit</th>\n",
       "      <th>selftext</th>\n",
       "      <th>title</th>\n",
       "    </tr>\n",
       "  </thead>\n",
       "  <tbody>\n",
       "    <tr>\n",
       "      <th>0</th>\n",
       "      <td>nba</td>\n",
       "      <td></td>\n",
       "      <td>2022-23 Lakers Season Begins — Narrated by LeB...</td>\n",
       "    </tr>\n",
       "    <tr>\n",
       "      <th>1</th>\n",
       "      <td>nba</td>\n",
       "      <td>[deleted]</td>\n",
       "      <td>[C.J. Holmes] Klay Thompson said he has no int...</td>\n",
       "    </tr>\n",
       "    <tr>\n",
       "      <th>2</th>\n",
       "      <td>nba</td>\n",
       "      <td></td>\n",
       "      <td>[Wojnarowski] Fanatics CEO Michael Rubin compl...</td>\n",
       "    </tr>\n",
       "    <tr>\n",
       "      <th>3</th>\n",
       "      <td>nba</td>\n",
       "      <td></td>\n",
       "      <td>[Wojnarowski] Fanatics CEO Michael Rubin compl...</td>\n",
       "    </tr>\n",
       "    <tr>\n",
       "      <th>4</th>\n",
       "      <td>nba</td>\n",
       "      <td></td>\n",
       "      <td>[Wojnarowski] ESPN Sources: Fanatics CEO Micha...</td>\n",
       "    </tr>\n",
       "  </tbody>\n",
       "</table>\n",
       "</div>"
      ],
      "text/plain": [
       "  subreddit   selftext                                              title\n",
       "0       nba             2022-23 Lakers Season Begins — Narrated by LeB...\n",
       "1       nba  [deleted]  [C.J. Holmes] Klay Thompson said he has no int...\n",
       "2       nba             [Wojnarowski] Fanatics CEO Michael Rubin compl...\n",
       "3       nba             [Wojnarowski] Fanatics CEO Michael Rubin compl...\n",
       "4       nba             [Wojnarowski] ESPN Sources: Fanatics CEO Micha..."
      ]
     },
     "execution_count": 46,
     "metadata": {},
     "output_type": "execute_result"
    }
   ],
   "source": [
    "df1.head()"
   ]
  },
  {
   "cell_type": "code",
   "execution_count": 47,
   "id": "ea9e74d7",
   "metadata": {
    "scrolled": true
   },
   "outputs": [
    {
     "data": {
      "text/plain": [
       "(997, 3)"
      ]
     },
     "execution_count": 47,
     "metadata": {},
     "output_type": "execute_result"
    }
   ],
   "source": [
    "df1.shape"
   ]
  },
  {
   "cell_type": "code",
   "execution_count": 57,
   "id": "eefd8855",
   "metadata": {},
   "outputs": [],
   "source": [
    "df1.to_csv('Data/nba')"
   ]
  },
  {
   "cell_type": "markdown",
   "id": "65c07dbd",
   "metadata": {},
   "source": [
    "### Creating NFL DataFrame"
   ]
  },
  {
   "cell_type": "code",
   "execution_count": 50,
   "id": "8a8d9d99",
   "metadata": {},
   "outputs": [],
   "source": [
    "df2 = pd.DataFrame(posts2)"
   ]
  },
  {
   "cell_type": "code",
   "execution_count": 51,
   "id": "6aca03ba",
   "metadata": {},
   "outputs": [],
   "source": [
    "df2 = df2[['subreddit', 'selftext', 'title']]"
   ]
  },
  {
   "cell_type": "code",
   "execution_count": 52,
   "id": "bb462f45",
   "metadata": {
    "scrolled": true
   },
   "outputs": [
    {
     "data": {
      "text/html": [
       "<div>\n",
       "<style scoped>\n",
       "    .dataframe tbody tr th:only-of-type {\n",
       "        vertical-align: middle;\n",
       "    }\n",
       "\n",
       "    .dataframe tbody tr th {\n",
       "        vertical-align: top;\n",
       "    }\n",
       "\n",
       "    .dataframe thead th {\n",
       "        text-align: right;\n",
       "    }\n",
       "</style>\n",
       "<table border=\"1\" class=\"dataframe\">\n",
       "  <thead>\n",
       "    <tr style=\"text-align: right;\">\n",
       "      <th></th>\n",
       "      <th>subreddit</th>\n",
       "      <th>selftext</th>\n",
       "      <th>title</th>\n",
       "    </tr>\n",
       "  </thead>\n",
       "  <tbody>\n",
       "    <tr>\n",
       "      <th>0</th>\n",
       "      <td>nfl</td>\n",
       "      <td></td>\n",
       "      <td>The true reason we're all excited for TNF</td>\n",
       "    </tr>\n",
       "    <tr>\n",
       "      <th>1</th>\n",
       "      <td>nfl</td>\n",
       "      <td>Longest active streaks not above .500 in NFL \\...</td>\n",
       "      <td>Interesting statistic</td>\n",
       "    </tr>\n",
       "    <tr>\n",
       "      <th>2</th>\n",
       "      <td>nfl</td>\n",
       "      <td></td>\n",
       "      <td>[RapSheet] Sources: #Jets WR Elijah Moore, fru...</td>\n",
       "    </tr>\n",
       "    <tr>\n",
       "      <th>3</th>\n",
       "      <td>nfl</td>\n",
       "      <td></td>\n",
       "      <td>[Rapoport] Sources: #Jets WR Elijah Moore, fru...</td>\n",
       "    </tr>\n",
       "    <tr>\n",
       "      <th>4</th>\n",
       "      <td>nfl</td>\n",
       "      <td></td>\n",
       "      <td>[Rapoport] Sources: #Jets WR Elijah Moore, fru...</td>\n",
       "    </tr>\n",
       "  </tbody>\n",
       "</table>\n",
       "</div>"
      ],
      "text/plain": [
       "  subreddit                                           selftext  \\\n",
       "0       nfl                                                      \n",
       "1       nfl  Longest active streaks not above .500 in NFL \\...   \n",
       "2       nfl                                                      \n",
       "3       nfl                                                      \n",
       "4       nfl                                                      \n",
       "\n",
       "                                               title  \n",
       "0          The true reason we're all excited for TNF  \n",
       "1                              Interesting statistic  \n",
       "2  [RapSheet] Sources: #Jets WR Elijah Moore, fru...  \n",
       "3  [Rapoport] Sources: #Jets WR Elijah Moore, fru...  \n",
       "4  [Rapoport] Sources: #Jets WR Elijah Moore, fru...  "
      ]
     },
     "execution_count": 52,
     "metadata": {},
     "output_type": "execute_result"
    }
   ],
   "source": [
    "df2.head()"
   ]
  },
  {
   "cell_type": "code",
   "execution_count": 53,
   "id": "f7529c8c",
   "metadata": {},
   "outputs": [
    {
     "data": {
      "text/plain": [
       "(1000, 3)"
      ]
     },
     "execution_count": 53,
     "metadata": {},
     "output_type": "execute_result"
    }
   ],
   "source": [
    "df2.shape"
   ]
  },
  {
   "cell_type": "code",
   "execution_count": 56,
   "id": "f56cc835",
   "metadata": {},
   "outputs": [],
   "source": [
    "df2.to_csv('Data/nfl')"
   ]
  },
  {
   "cell_type": "code",
   "execution_count": 55,
   "id": "b40e4ec0",
   "metadata": {},
   "outputs": [],
   "source": [
    "df = pd.concat([df1, df2], axis=0)"
   ]
  },
  {
   "cell_type": "markdown",
   "id": "37ece47d",
   "metadata": {},
   "source": [
    "### Combining NBA & NFL Data"
   ]
  },
  {
   "cell_type": "code",
   "execution_count": 55,
   "id": "b40dcb0e",
   "metadata": {
    "scrolled": false
   },
   "outputs": [
    {
     "data": {
      "text/html": [
       "<div>\n",
       "<style scoped>\n",
       "    .dataframe tbody tr th:only-of-type {\n",
       "        vertical-align: middle;\n",
       "    }\n",
       "\n",
       "    .dataframe tbody tr th {\n",
       "        vertical-align: top;\n",
       "    }\n",
       "\n",
       "    .dataframe thead th {\n",
       "        text-align: right;\n",
       "    }\n",
       "</style>\n",
       "<table border=\"1\" class=\"dataframe\">\n",
       "  <thead>\n",
       "    <tr style=\"text-align: right;\">\n",
       "      <th></th>\n",
       "      <th>subreddit</th>\n",
       "      <th>selftext</th>\n",
       "      <th>title</th>\n",
       "    </tr>\n",
       "  </thead>\n",
       "  <tbody>\n",
       "    <tr>\n",
       "      <th>0</th>\n",
       "      <td>nba</td>\n",
       "      <td></td>\n",
       "      <td>2022-23 Lakers Season Begins — Narrated by LeB...</td>\n",
       "    </tr>\n",
       "    <tr>\n",
       "      <th>1</th>\n",
       "      <td>nba</td>\n",
       "      <td>[deleted]</td>\n",
       "      <td>[C.J. Holmes] Klay Thompson said he has no int...</td>\n",
       "    </tr>\n",
       "    <tr>\n",
       "      <th>2</th>\n",
       "      <td>nba</td>\n",
       "      <td></td>\n",
       "      <td>[Wojnarowski] Fanatics CEO Michael Rubin compl...</td>\n",
       "    </tr>\n",
       "    <tr>\n",
       "      <th>3</th>\n",
       "      <td>nba</td>\n",
       "      <td></td>\n",
       "      <td>[Wojnarowski] Fanatics CEO Michael Rubin compl...</td>\n",
       "    </tr>\n",
       "    <tr>\n",
       "      <th>4</th>\n",
       "      <td>nba</td>\n",
       "      <td></td>\n",
       "      <td>[Wojnarowski] ESPN Sources: Fanatics CEO Micha...</td>\n",
       "    </tr>\n",
       "  </tbody>\n",
       "</table>\n",
       "</div>"
      ],
      "text/plain": [
       "  subreddit   selftext                                              title\n",
       "0       nba             2022-23 Lakers Season Begins — Narrated by LeB...\n",
       "1       nba  [deleted]  [C.J. Holmes] Klay Thompson said he has no int...\n",
       "2       nba             [Wojnarowski] Fanatics CEO Michael Rubin compl...\n",
       "3       nba             [Wojnarowski] Fanatics CEO Michael Rubin compl...\n",
       "4       nba             [Wojnarowski] ESPN Sources: Fanatics CEO Micha..."
      ]
     },
     "execution_count": 55,
     "metadata": {},
     "output_type": "execute_result"
    }
   ],
   "source": [
    "df.head()"
   ]
  },
  {
   "cell_type": "code",
   "execution_count": 58,
   "id": "f90af000",
   "metadata": {},
   "outputs": [
    {
     "data": {
      "text/plain": [
       "(1997, 3)"
      ]
     },
     "execution_count": 58,
     "metadata": {},
     "output_type": "execute_result"
    }
   ],
   "source": [
    "df.shape"
   ]
  },
  {
   "cell_type": "markdown",
   "id": "07c6ea1f",
   "metadata": {},
   "source": [
    "### Convert NBA/NFL into binary labels"
   ]
  },
  {
   "cell_type": "code",
   "execution_count": 59,
   "id": "c7f49ac5",
   "metadata": {},
   "outputs": [],
   "source": [
    "df['subreddit'].replace(['nba', 'nfl'], [1, 0], inplace=True)"
   ]
  },
  {
   "cell_type": "code",
   "execution_count": 60,
   "id": "50531844",
   "metadata": {},
   "outputs": [
    {
     "data": {
      "text/html": [
       "<div>\n",
       "<style scoped>\n",
       "    .dataframe tbody tr th:only-of-type {\n",
       "        vertical-align: middle;\n",
       "    }\n",
       "\n",
       "    .dataframe tbody tr th {\n",
       "        vertical-align: top;\n",
       "    }\n",
       "\n",
       "    .dataframe thead th {\n",
       "        text-align: right;\n",
       "    }\n",
       "</style>\n",
       "<table border=\"1\" class=\"dataframe\">\n",
       "  <thead>\n",
       "    <tr style=\"text-align: right;\">\n",
       "      <th></th>\n",
       "      <th>subreddit</th>\n",
       "      <th>selftext</th>\n",
       "      <th>title</th>\n",
       "    </tr>\n",
       "  </thead>\n",
       "  <tbody>\n",
       "    <tr>\n",
       "      <th>0</th>\n",
       "      <td>1</td>\n",
       "      <td></td>\n",
       "      <td>2022-23 Lakers Season Begins — Narrated by LeB...</td>\n",
       "    </tr>\n",
       "    <tr>\n",
       "      <th>1</th>\n",
       "      <td>1</td>\n",
       "      <td>[deleted]</td>\n",
       "      <td>[C.J. Holmes] Klay Thompson said he has no int...</td>\n",
       "    </tr>\n",
       "    <tr>\n",
       "      <th>2</th>\n",
       "      <td>1</td>\n",
       "      <td></td>\n",
       "      <td>[Wojnarowski] Fanatics CEO Michael Rubin compl...</td>\n",
       "    </tr>\n",
       "    <tr>\n",
       "      <th>3</th>\n",
       "      <td>1</td>\n",
       "      <td></td>\n",
       "      <td>[Wojnarowski] Fanatics CEO Michael Rubin compl...</td>\n",
       "    </tr>\n",
       "    <tr>\n",
       "      <th>4</th>\n",
       "      <td>1</td>\n",
       "      <td></td>\n",
       "      <td>[Wojnarowski] ESPN Sources: Fanatics CEO Micha...</td>\n",
       "    </tr>\n",
       "  </tbody>\n",
       "</table>\n",
       "</div>"
      ],
      "text/plain": [
       "   subreddit   selftext                                              title\n",
       "0          1             2022-23 Lakers Season Begins — Narrated by LeB...\n",
       "1          1  [deleted]  [C.J. Holmes] Klay Thompson said he has no int...\n",
       "2          1             [Wojnarowski] Fanatics CEO Michael Rubin compl...\n",
       "3          1             [Wojnarowski] Fanatics CEO Michael Rubin compl...\n",
       "4          1             [Wojnarowski] ESPN Sources: Fanatics CEO Micha..."
      ]
     },
     "execution_count": 60,
     "metadata": {},
     "output_type": "execute_result"
    }
   ],
   "source": [
    "df.head()"
   ]
  },
  {
   "cell_type": "code",
   "execution_count": 59,
   "id": "30d00122",
   "metadata": {},
   "outputs": [],
   "source": [
    "df.to_csv('Data/nbavsnfl')"
   ]
  }
 ],
 "metadata": {
  "kernelspec": {
   "display_name": "Python 3 (ipykernel)",
   "language": "python",
   "name": "python3"
  },
  "language_info": {
   "codemirror_mode": {
    "name": "ipython",
    "version": 3
   },
   "file_extension": ".py",
   "mimetype": "text/x-python",
   "name": "python",
   "nbconvert_exporter": "python",
   "pygments_lexer": "ipython3",
   "version": "3.9.12"
  }
 },
 "nbformat": 4,
 "nbformat_minor": 5
}
