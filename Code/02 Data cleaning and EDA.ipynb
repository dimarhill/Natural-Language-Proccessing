{
 "cells": [
  {
   "cell_type": "markdown",
   "id": "b038b1ba",
   "metadata": {},
   "source": [
    "# NBA vs NFL Subreddit Part 2 - Data Cleaning and EDA\n",
    "---\n",
    "\n",
    "_Author: Matthew Hill_"
   ]
  },
  {
   "cell_type": "markdown",
   "id": "7356c1c9",
   "metadata": {},
   "source": [
    "### Imports\n",
    "---"
   ]
  },
  {
   "cell_type": "code",
   "execution_count": 2,
   "id": "57a87470",
   "metadata": {},
   "outputs": [],
   "source": [
    "import requests\n",
    "import pandas as pd\n",
    "import matplotlib.pyplot as plt\n",
    "from sklearn.model_selection import train_test_split, GridSearchCV, cross_val_score\n",
    "from sklearn.pipeline import Pipeline\n",
    "from sklearn.naive_bayes import MultinomialNB\n",
    "from sklearn.linear_model import LogisticRegression\n",
    "from sklearn.metrics import confusion_matrix, plot_confusion_matrix\n",
    "from nltk.stem import WordNetLemmatizer\n",
    "\n",
    "import nltk\n",
    "from nltk.tokenize import sent_tokenize, word_tokenize, RegexpTokenizer\n",
    "from nltk.stem import PorterStemmer, WordNetLemmatizer\n",
    "from nltk.corpus import stopwords, wordnet\n",
    "from nltk.sentiment.vader import SentimentIntensityAnalyzer\n",
    "\n",
    "\n",
    "# Import CountVectorizer and TFIDFVectorizer from feature_extraction.text.\n",
    "from sklearn.feature_extraction.text import CountVectorizer, TfidfVectorizer"
   ]
  },
  {
   "cell_type": "markdown",
   "id": "b28b129b",
   "metadata": {},
   "source": [
    "### _Subsets for Model_\n",
    "---"
   ]
  },
  {
   "cell_type": "code",
   "execution_count": 6,
   "id": "0f33677e",
   "metadata": {},
   "outputs": [],
   "source": [
    "nbadf = pd.read_csv('../Data/nba')\n",
    "nfldf = pd.read_csv('../Data/nfl')"
   ]
  },
  {
   "cell_type": "code",
   "execution_count": 7,
   "id": "d313193c",
   "metadata": {},
   "outputs": [
    {
     "data": {
      "text/html": [
       "<div>\n",
       "<style scoped>\n",
       "    .dataframe tbody tr th:only-of-type {\n",
       "        vertical-align: middle;\n",
       "    }\n",
       "\n",
       "    .dataframe tbody tr th {\n",
       "        vertical-align: top;\n",
       "    }\n",
       "\n",
       "    .dataframe thead th {\n",
       "        text-align: right;\n",
       "    }\n",
       "</style>\n",
       "<table border=\"1\" class=\"dataframe\">\n",
       "  <thead>\n",
       "    <tr style=\"text-align: right;\">\n",
       "      <th></th>\n",
       "      <th>Unnamed: 0</th>\n",
       "      <th>subreddit</th>\n",
       "      <th>selftext</th>\n",
       "      <th>title</th>\n",
       "    </tr>\n",
       "  </thead>\n",
       "  <tbody>\n",
       "    <tr>\n",
       "      <th>0</th>\n",
       "      <td>0</td>\n",
       "      <td>nba</td>\n",
       "      <td>NaN</td>\n",
       "      <td>2022-23 Lakers Season Begins — Narrated by LeB...</td>\n",
       "    </tr>\n",
       "    <tr>\n",
       "      <th>1</th>\n",
       "      <td>1</td>\n",
       "      <td>nba</td>\n",
       "      <td>[deleted]</td>\n",
       "      <td>[C.J. Holmes] Klay Thompson said he has no int...</td>\n",
       "    </tr>\n",
       "    <tr>\n",
       "      <th>2</th>\n",
       "      <td>2</td>\n",
       "      <td>nba</td>\n",
       "      <td>NaN</td>\n",
       "      <td>[Wojnarowski] Fanatics CEO Michael Rubin compl...</td>\n",
       "    </tr>\n",
       "  </tbody>\n",
       "</table>\n",
       "</div>"
      ],
      "text/plain": [
       "   Unnamed: 0 subreddit   selftext  \\\n",
       "0           0       nba        NaN   \n",
       "1           1       nba  [deleted]   \n",
       "2           2       nba        NaN   \n",
       "\n",
       "                                               title  \n",
       "0  2022-23 Lakers Season Begins — Narrated by LeB...  \n",
       "1  [C.J. Holmes] Klay Thompson said he has no int...  \n",
       "2  [Wojnarowski] Fanatics CEO Michael Rubin compl...  "
      ]
     },
     "execution_count": 7,
     "metadata": {},
     "output_type": "execute_result"
    }
   ],
   "source": [
    "nbadf.head(3)"
   ]
  },
  {
   "cell_type": "code",
   "execution_count": 8,
   "id": "77035bca",
   "metadata": {},
   "outputs": [
    {
     "data": {
      "text/html": [
       "<div>\n",
       "<style scoped>\n",
       "    .dataframe tbody tr th:only-of-type {\n",
       "        vertical-align: middle;\n",
       "    }\n",
       "\n",
       "    .dataframe tbody tr th {\n",
       "        vertical-align: top;\n",
       "    }\n",
       "\n",
       "    .dataframe thead th {\n",
       "        text-align: right;\n",
       "    }\n",
       "</style>\n",
       "<table border=\"1\" class=\"dataframe\">\n",
       "  <thead>\n",
       "    <tr style=\"text-align: right;\">\n",
       "      <th></th>\n",
       "      <th>Unnamed: 0</th>\n",
       "      <th>subreddit</th>\n",
       "      <th>selftext</th>\n",
       "      <th>title</th>\n",
       "    </tr>\n",
       "  </thead>\n",
       "  <tbody>\n",
       "    <tr>\n",
       "      <th>0</th>\n",
       "      <td>0</td>\n",
       "      <td>nfl</td>\n",
       "      <td>NaN</td>\n",
       "      <td>The true reason we're all excited for TNF</td>\n",
       "    </tr>\n",
       "    <tr>\n",
       "      <th>1</th>\n",
       "      <td>1</td>\n",
       "      <td>nfl</td>\n",
       "      <td>Longest active streaks not above .500 in NFL \\...</td>\n",
       "      <td>Interesting statistic</td>\n",
       "    </tr>\n",
       "    <tr>\n",
       "      <th>2</th>\n",
       "      <td>2</td>\n",
       "      <td>nfl</td>\n",
       "      <td>NaN</td>\n",
       "      <td>[RapSheet] Sources: #Jets WR Elijah Moore, fru...</td>\n",
       "    </tr>\n",
       "  </tbody>\n",
       "</table>\n",
       "</div>"
      ],
      "text/plain": [
       "   Unnamed: 0 subreddit                                           selftext  \\\n",
       "0           0       nfl                                                NaN   \n",
       "1           1       nfl  Longest active streaks not above .500 in NFL \\...   \n",
       "2           2       nfl                                                NaN   \n",
       "\n",
       "                                               title  \n",
       "0          The true reason we're all excited for TNF  \n",
       "1                              Interesting statistic  \n",
       "2  [RapSheet] Sources: #Jets WR Elijah Moore, fru...  "
      ]
     },
     "execution_count": 8,
     "metadata": {},
     "output_type": "execute_result"
    }
   ],
   "source": [
    "nfldf.head(3)"
   ]
  },
  {
   "cell_type": "markdown",
   "id": "f8688b93",
   "metadata": {},
   "source": [
    "##### Drop 'Unnamed: 0' columns\n",
    "---"
   ]
  },
  {
   "cell_type": "code",
   "execution_count": 9,
   "id": "f8c1f94b",
   "metadata": {},
   "outputs": [],
   "source": [
    "nbadf.drop(columns=['Unnamed: 0', 'selftext'], inplace = True)\n",
    "nfldf.drop(columns=['Unnamed: 0', 'selftext'], inplace = True)"
   ]
  },
  {
   "cell_type": "code",
   "execution_count": 10,
   "id": "b96d2b4b",
   "metadata": {},
   "outputs": [
    {
     "data": {
      "text/html": [
       "<div>\n",
       "<style scoped>\n",
       "    .dataframe tbody tr th:only-of-type {\n",
       "        vertical-align: middle;\n",
       "    }\n",
       "\n",
       "    .dataframe tbody tr th {\n",
       "        vertical-align: top;\n",
       "    }\n",
       "\n",
       "    .dataframe thead th {\n",
       "        text-align: right;\n",
       "    }\n",
       "</style>\n",
       "<table border=\"1\" class=\"dataframe\">\n",
       "  <thead>\n",
       "    <tr style=\"text-align: right;\">\n",
       "      <th></th>\n",
       "      <th>subreddit</th>\n",
       "      <th>title</th>\n",
       "    </tr>\n",
       "  </thead>\n",
       "  <tbody>\n",
       "    <tr>\n",
       "      <th>0</th>\n",
       "      <td>nba</td>\n",
       "      <td>2022-23 Lakers Season Begins — Narrated by LeB...</td>\n",
       "    </tr>\n",
       "    <tr>\n",
       "      <th>1</th>\n",
       "      <td>nba</td>\n",
       "      <td>[C.J. Holmes] Klay Thompson said he has no int...</td>\n",
       "    </tr>\n",
       "    <tr>\n",
       "      <th>2</th>\n",
       "      <td>nba</td>\n",
       "      <td>[Wojnarowski] Fanatics CEO Michael Rubin compl...</td>\n",
       "    </tr>\n",
       "  </tbody>\n",
       "</table>\n",
       "</div>"
      ],
      "text/plain": [
       "  subreddit                                              title\n",
       "0       nba  2022-23 Lakers Season Begins — Narrated by LeB...\n",
       "1       nba  [C.J. Holmes] Klay Thompson said he has no int...\n",
       "2       nba  [Wojnarowski] Fanatics CEO Michael Rubin compl..."
      ]
     },
     "execution_count": 10,
     "metadata": {},
     "output_type": "execute_result"
    }
   ],
   "source": [
    "nbadf.head(3)"
   ]
  },
  {
   "cell_type": "code",
   "execution_count": 11,
   "id": "0456c257",
   "metadata": {},
   "outputs": [
    {
     "data": {
      "text/html": [
       "<div>\n",
       "<style scoped>\n",
       "    .dataframe tbody tr th:only-of-type {\n",
       "        vertical-align: middle;\n",
       "    }\n",
       "\n",
       "    .dataframe tbody tr th {\n",
       "        vertical-align: top;\n",
       "    }\n",
       "\n",
       "    .dataframe thead th {\n",
       "        text-align: right;\n",
       "    }\n",
       "</style>\n",
       "<table border=\"1\" class=\"dataframe\">\n",
       "  <thead>\n",
       "    <tr style=\"text-align: right;\">\n",
       "      <th></th>\n",
       "      <th>subreddit</th>\n",
       "      <th>title</th>\n",
       "    </tr>\n",
       "  </thead>\n",
       "  <tbody>\n",
       "    <tr>\n",
       "      <th>0</th>\n",
       "      <td>nfl</td>\n",
       "      <td>The true reason we're all excited for TNF</td>\n",
       "    </tr>\n",
       "    <tr>\n",
       "      <th>1</th>\n",
       "      <td>nfl</td>\n",
       "      <td>Interesting statistic</td>\n",
       "    </tr>\n",
       "    <tr>\n",
       "      <th>2</th>\n",
       "      <td>nfl</td>\n",
       "      <td>[RapSheet] Sources: #Jets WR Elijah Moore, fru...</td>\n",
       "    </tr>\n",
       "  </tbody>\n",
       "</table>\n",
       "</div>"
      ],
      "text/plain": [
       "  subreddit                                              title\n",
       "0       nfl          The true reason we're all excited for TNF\n",
       "1       nfl                              Interesting statistic\n",
       "2       nfl  [RapSheet] Sources: #Jets WR Elijah Moore, fru..."
      ]
     },
     "execution_count": 11,
     "metadata": {},
     "output_type": "execute_result"
    }
   ],
   "source": [
    "nfldf.head(3)"
   ]
  },
  {
   "cell_type": "markdown",
   "id": "158719ef",
   "metadata": {},
   "source": [
    "### NBA Top 10 Words Excluding Stop Words & Only 2 word phrases"
   ]
  },
  {
   "cell_type": "code",
   "execution_count": 9,
   "id": "53e6da23",
   "metadata": {},
   "outputs": [],
   "source": [
    "X = nbadf['title']\n",
    "y = nbadf['subreddit']"
   ]
  },
  {
   "cell_type": "code",
   "execution_count": 10,
   "id": "e746c2a3",
   "metadata": {},
   "outputs": [],
   "source": [
    "X_train, X_test, y_train, y_test = train_test_split(X,\n",
    "                                                    y,\n",
    "                                                    stratify=y,\n",
    "                                                    random_state=42)"
   ]
  },
  {
   "cell_type": "code",
   "execution_count": 11,
   "id": "5172933b",
   "metadata": {},
   "outputs": [],
   "source": [
    "# Instantiate (w/ ngrams)\n",
    "cvec = CountVectorizer(stop_words = 'english', ngram_range = (2,2))\n",
    "\n",
    "#Fit\n",
    "cvec.fit(X_train)\n",
    "\n",
    "#Transform\n",
    "X_train = cvec.transform(X_train)\n",
    "X_test = cvec.transform(X_test)"
   ]
  },
  {
   "cell_type": "code",
   "execution_count": 12,
   "id": "e7b92c19",
   "metadata": {
    "scrolled": true
   },
   "outputs": [
    {
     "name": "stderr",
     "output_type": "stream",
     "text": [
      "/Users/dimarhill/opt/anaconda3/lib/python3.9/site-packages/sklearn/utils/deprecation.py:87: FutureWarning: Function get_feature_names is deprecated; get_feature_names is deprecated in 1.0 and will be removed in 1.2. Please use get_feature_names_out instead.\n",
      "  warnings.warn(msg, category=FutureWarning)\n"
     ]
    }
   ],
   "source": [
    "X_train = pd.DataFrame(X_train.todense(), \n",
    "                          columns=cvec.get_feature_names())"
   ]
  },
  {
   "cell_type": "code",
   "execution_count": 15,
   "id": "97eff59b",
   "metadata": {},
   "outputs": [
    {
     "data": {
      "image/png": "[encoded data removed]",
      "text/plain": [
       "<Figure size 432x288 with 1 Axes>"
      ]
     },
     "metadata": {
      "needs_background": "light"
     },
     "output_type": "display_data"
    }
   ],
   "source": [
    "X_train.sum().sort_values(ascending = False).head(10).plot(kind = 'barh')\n",
    "plt.title('NBA TOP 10 PHRASES');"
   ]
  },
  {
   "cell_type": "markdown",
   "id": "62dba703",
   "metadata": {},
   "source": [
    "### NFL Top 10 Words Excluding Stop Words & Only 2 word phrases"
   ]
  },
  {
   "cell_type": "code",
   "execution_count": 17,
   "id": "20670d82",
   "metadata": {},
   "outputs": [],
   "source": [
    "X2 = nfldf['title']\n",
    "y2 = nfldf['subreddit']"
   ]
  },
  {
   "cell_type": "code",
   "execution_count": 18,
   "id": "b3901c34",
   "metadata": {},
   "outputs": [],
   "source": [
    "X2_train, X2_test, y2_train, y2_test = train_test_split(X2,\n",
    "                                                    y2,\n",
    "                                                    stratify=y2,\n",
    "                                                    random_state=42)"
   ]
  },
  {
   "cell_type": "code",
   "execution_count": 19,
   "id": "26808def",
   "metadata": {},
   "outputs": [],
   "source": [
    "# Instantiate (w/ ngrams)\n",
    "cvec = CountVectorizer(stop_words = 'english', ngram_range = (2,2))\n",
    "\n",
    "#Fit\n",
    "cvec.fit(X2_train)\n",
    "\n",
    "#Transform\n",
    "X2_train = cvec.transform(X2_train)\n",
    "X2_test = cvec.transform(X2_test)"
   ]
  },
  {
   "cell_type": "code",
   "execution_count": 20,
   "id": "955126c8",
   "metadata": {},
   "outputs": [
    {
     "name": "stderr",
     "output_type": "stream",
     "text": [
      "/Users/dimarhill/opt/anaconda3/lib/python3.9/site-packages/sklearn/utils/deprecation.py:87: FutureWarning: Function get_feature_names is deprecated; get_feature_names is deprecated in 1.0 and will be removed in 1.2. Please use get_feature_names_out instead.\n",
      "  warnings.warn(msg, category=FutureWarning)\n"
     ]
    }
   ],
   "source": [
    "X_train2 = pd.DataFrame(X2_train.todense(), \n",
    "                          columns=cvec.get_feature_names())"
   ]
  },
  {
   "cell_type": "code",
   "execution_count": 21,
   "id": "f4b94af3",
   "metadata": {},
   "outputs": [
    {
     "data": {
      "image/png": "[encoded data removed]",
      "text/plain": [
       "<Figure size 432x288 with 1 Axes>"
      ]
     },
     "metadata": {
      "needs_background": "light"
     },
     "output_type": "display_data"
    }
   ],
   "source": [
    "X_train2.sum().sort_values(ascending = False).head(10).plot(kind = 'barh');\n",
    "plt.title('NFL TOP 10 PHRASES');"
   ]
  }
 ],
 "metadata": {
  "kernelspec": {
   "display_name": "Python 3 (ipykernel)",
   "language": "python",
   "name": "python3"
  },
  "language_info": {
   "codemirror_mode": {
    "name": "ipython",
    "version": 3
   },
   "file_extension": ".py",
   "mimetype": "text/x-python",
   "name": "python",
   "nbconvert_exporter": "python",
   "pygments_lexer": "ipython3",
   "version": "3.9.12"
  }
 },
 "nbformat": 4,
 "nbformat_minor": 5
}
