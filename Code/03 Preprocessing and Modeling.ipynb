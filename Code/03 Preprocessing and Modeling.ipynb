{
 "cells": [
  {
   "cell_type": "markdown",
   "id": "079b8b3c",
   "metadata": {},
   "source": [
    "# NBA vs NFL Subreddit Part 2 - Preprocessing and Modeling\n",
    "---\n",
    "\n",
    "_Author: Matthew Hill_"
   ]
  },
  {
   "cell_type": "markdown",
   "id": "c5e1cd7b",
   "metadata": {},
   "source": [
    "### Imports\n",
    "---"
   ]
  },
  {
   "cell_type": "code",
   "execution_count": 1,
   "id": "663560f8",
   "metadata": {},
   "outputs": [],
   "source": [
    "import requests\n",
    "import pandas as pd\n",
    "import matplotlib.pyplot as plt\n",
    "from sklearn.model_selection import train_test_split, GridSearchCV, cross_val_score\n",
    "from sklearn.pipeline import Pipeline\n",
    "from sklearn.naive_bayes import MultinomialNB\n",
    "from sklearn.linear_model import LogisticRegression\n",
    "from sklearn.metrics import confusion_matrix, plot_confusion_matrix\n",
    "from nltk.stem import WordNetLemmatizer\n",
    "\n",
    "from sklearn.ensemble import RandomForestClassifier, RandomForestRegressor, ExtraTreesClassifier\n",
    "import nltk\n",
    "from nltk.tokenize import sent_tokenize, word_tokenize, RegexpTokenizer\n",
    "from nltk.stem import PorterStemmer, WordNetLemmatizer\n",
    "from nltk.corpus import stopwords, wordnet\n",
    "from nltk.sentiment.vader import SentimentIntensityAnalyzer\n",
    "\n",
    "\n",
    "# Import CountVectorizer and TFIDFVectorizer from feature_extraction.text.\n",
    "from sklearn.feature_extraction.text import CountVectorizer, TfidfVectorizer"
   ]
  },
  {
   "cell_type": "markdown",
   "id": "c26419f3",
   "metadata": {},
   "source": [
    "### _Subset for Model_\n",
    "---"
   ]
  },
  {
   "cell_type": "code",
   "execution_count": 27,
   "id": "64b5ae69",
   "metadata": {},
   "outputs": [],
   "source": [
    "df = pd.read_csv('../Data/nbavsnfl')"
   ]
  },
  {
   "cell_type": "code",
   "execution_count": 28,
   "id": "de1fc382",
   "metadata": {},
   "outputs": [
    {
     "data": {
      "text/html": [
       "<div>\n",
       "<style scoped>\n",
       "    .dataframe tbody tr th:only-of-type {\n",
       "        vertical-align: middle;\n",
       "    }\n",
       "\n",
       "    .dataframe tbody tr th {\n",
       "        vertical-align: top;\n",
       "    }\n",
       "\n",
       "    .dataframe thead th {\n",
       "        text-align: right;\n",
       "    }\n",
       "</style>\n",
       "<table border=\"1\" class=\"dataframe\">\n",
       "  <thead>\n",
       "    <tr style=\"text-align: right;\">\n",
       "      <th></th>\n",
       "      <th>Unnamed: 0</th>\n",
       "      <th>subreddit</th>\n",
       "      <th>selftext</th>\n",
       "      <th>title</th>\n",
       "    </tr>\n",
       "  </thead>\n",
       "  <tbody>\n",
       "    <tr>\n",
       "      <th>0</th>\n",
       "      <td>0</td>\n",
       "      <td>1</td>\n",
       "      <td>NaN</td>\n",
       "      <td>2022-23 Lakers Season Begins — Narrated by LeB...</td>\n",
       "    </tr>\n",
       "    <tr>\n",
       "      <th>1</th>\n",
       "      <td>1</td>\n",
       "      <td>1</td>\n",
       "      <td>[deleted]</td>\n",
       "      <td>[C.J. Holmes] Klay Thompson said he has no int...</td>\n",
       "    </tr>\n",
       "    <tr>\n",
       "      <th>2</th>\n",
       "      <td>2</td>\n",
       "      <td>1</td>\n",
       "      <td>NaN</td>\n",
       "      <td>[Wojnarowski] Fanatics CEO Michael Rubin compl...</td>\n",
       "    </tr>\n",
       "  </tbody>\n",
       "</table>\n",
       "</div>"
      ],
      "text/plain": [
       "   Unnamed: 0  subreddit   selftext  \\\n",
       "0           0          1        NaN   \n",
       "1           1          1  [deleted]   \n",
       "2           2          1        NaN   \n",
       "\n",
       "                                               title  \n",
       "0  2022-23 Lakers Season Begins — Narrated by LeB...  \n",
       "1  [C.J. Holmes] Klay Thompson said he has no int...  \n",
       "2  [Wojnarowski] Fanatics CEO Michael Rubin compl...  "
      ]
     },
     "execution_count": 28,
     "metadata": {},
     "output_type": "execute_result"
    }
   ],
   "source": [
    "df.head(3)"
   ]
  },
  {
   "cell_type": "markdown",
   "id": "f0948a7b",
   "metadata": {},
   "source": [
    "##### Drop 'Unnamed: 0' columns\n",
    "---"
   ]
  },
  {
   "cell_type": "code",
   "execution_count": 29,
   "id": "7db5732c",
   "metadata": {},
   "outputs": [],
   "source": [
    "df.drop(columns=['Unnamed: 0', 'selftext'], inplace = True)"
   ]
  },
  {
   "cell_type": "code",
   "execution_count": 30,
   "id": "ff94fc9d",
   "metadata": {},
   "outputs": [
    {
     "data": {
      "text/html": [
       "<div>\n",
       "<style scoped>\n",
       "    .dataframe tbody tr th:only-of-type {\n",
       "        vertical-align: middle;\n",
       "    }\n",
       "\n",
       "    .dataframe tbody tr th {\n",
       "        vertical-align: top;\n",
       "    }\n",
       "\n",
       "    .dataframe thead th {\n",
       "        text-align: right;\n",
       "    }\n",
       "</style>\n",
       "<table border=\"1\" class=\"dataframe\">\n",
       "  <thead>\n",
       "    <tr style=\"text-align: right;\">\n",
       "      <th></th>\n",
       "      <th>subreddit</th>\n",
       "      <th>title</th>\n",
       "    </tr>\n",
       "  </thead>\n",
       "  <tbody>\n",
       "    <tr>\n",
       "      <th>0</th>\n",
       "      <td>1</td>\n",
       "      <td>2022-23 Lakers Season Begins — Narrated by LeB...</td>\n",
       "    </tr>\n",
       "    <tr>\n",
       "      <th>1</th>\n",
       "      <td>1</td>\n",
       "      <td>[C.J. Holmes] Klay Thompson said he has no int...</td>\n",
       "    </tr>\n",
       "    <tr>\n",
       "      <th>2</th>\n",
       "      <td>1</td>\n",
       "      <td>[Wojnarowski] Fanatics CEO Michael Rubin compl...</td>\n",
       "    </tr>\n",
       "    <tr>\n",
       "      <th>3</th>\n",
       "      <td>1</td>\n",
       "      <td>[Wojnarowski] Fanatics CEO Michael Rubin compl...</td>\n",
       "    </tr>\n",
       "    <tr>\n",
       "      <th>4</th>\n",
       "      <td>1</td>\n",
       "      <td>[Wojnarowski] ESPN Sources: Fanatics CEO Micha...</td>\n",
       "    </tr>\n",
       "  </tbody>\n",
       "</table>\n",
       "</div>"
      ],
      "text/plain": [
       "   subreddit                                              title\n",
       "0          1  2022-23 Lakers Season Begins — Narrated by LeB...\n",
       "1          1  [C.J. Holmes] Klay Thompson said he has no int...\n",
       "2          1  [Wojnarowski] Fanatics CEO Michael Rubin compl...\n",
       "3          1  [Wojnarowski] Fanatics CEO Michael Rubin compl...\n",
       "4          1  [Wojnarowski] ESPN Sources: Fanatics CEO Micha..."
      ]
     },
     "execution_count": 30,
     "metadata": {},
     "output_type": "execute_result"
    }
   ],
   "source": [
    "df.head()"
   ]
  },
  {
   "cell_type": "markdown",
   "id": "a7e07cce",
   "metadata": {},
   "source": [
    "# Preprocessing and Modeling\n",
    "---"
   ]
  },
  {
   "cell_type": "markdown",
   "id": "0f3769b3",
   "metadata": {},
   "source": [
    "### OLS Train/Test Split Model"
   ]
  },
  {
   "cell_type": "code",
   "execution_count": 31,
   "id": "52219c15",
   "metadata": {},
   "outputs": [],
   "source": [
    "X = df['title']\n",
    "y = df['subreddit']"
   ]
  },
  {
   "cell_type": "code",
   "execution_count": 32,
   "id": "e21f972d",
   "metadata": {},
   "outputs": [],
   "source": [
    "X_train, X_test, y_train, y_test = train_test_split(X,\n",
    "                                                    y,\n",
    "                                                    stratify=y,\n",
    "                                                    random_state=42)"
   ]
  },
  {
   "cell_type": "code",
   "execution_count": 33,
   "id": "9c4d90b9",
   "metadata": {},
   "outputs": [
    {
     "data": {
      "text/plain": [
       "0    0.500751\n",
       "1    0.499249\n",
       "Name: subreddit, dtype: float64"
      ]
     },
     "execution_count": 33,
     "metadata": {},
     "output_type": "execute_result"
    }
   ],
   "source": [
    "y.value_counts(normalize = True)"
   ]
  },
  {
   "cell_type": "code",
   "execution_count": 34,
   "id": "b776c837",
   "metadata": {},
   "outputs": [],
   "source": [
    "cvec = CountVectorizer()"
   ]
  },
  {
   "cell_type": "code",
   "execution_count": 35,
   "id": "1595088f",
   "metadata": {},
   "outputs": [
    {
     "data": {
      "text/plain": [
       "CountVectorizer()"
      ]
     },
     "execution_count": 35,
     "metadata": {},
     "output_type": "execute_result"
    }
   ],
   "source": [
    "cvec.fit(X_train)"
   ]
  },
  {
   "cell_type": "code",
   "execution_count": 36,
   "id": "18bda2e8",
   "metadata": {},
   "outputs": [],
   "source": [
    "X_train = cvec.transform(X_train)"
   ]
  },
  {
   "cell_type": "code",
   "execution_count": 37,
   "id": "4431ffeb",
   "metadata": {},
   "outputs": [],
   "source": [
    "X_test = cvec.transform(X_test)"
   ]
  },
  {
   "cell_type": "code",
   "execution_count": 38,
   "id": "0ac174cf",
   "metadata": {},
   "outputs": [
    {
     "data": {
      "text/plain": [
       "(1497, 4424)"
      ]
     },
     "execution_count": 38,
     "metadata": {},
     "output_type": "execute_result"
    }
   ],
   "source": [
    "X_train.shape"
   ]
  },
  {
   "cell_type": "code",
   "execution_count": 39,
   "id": "5c22f6cd",
   "metadata": {},
   "outputs": [
    {
     "data": {
      "text/plain": [
       "scipy.sparse.csr.csr_matrix"
      ]
     },
     "execution_count": 39,
     "metadata": {},
     "output_type": "execute_result"
    }
   ],
   "source": [
    "type(X_train)"
   ]
  },
  {
   "cell_type": "code",
   "execution_count": 40,
   "id": "36f0a31e",
   "metadata": {},
   "outputs": [
    {
     "data": {
      "text/plain": [
       "matrix([[0, 0, 0, ..., 0, 0, 0],\n",
       "        [0, 0, 0, ..., 0, 0, 0],\n",
       "        [0, 0, 0, ..., 0, 0, 0],\n",
       "        ...,\n",
       "        [0, 0, 0, ..., 0, 0, 0],\n",
       "        [0, 0, 0, ..., 0, 0, 0],\n",
       "        [0, 0, 0, ..., 0, 0, 0]])"
      ]
     },
     "execution_count": 40,
     "metadata": {},
     "output_type": "execute_result"
    }
   ],
   "source": [
    "X_train.todense()"
   ]
  },
  {
   "cell_type": "code",
   "execution_count": 41,
   "id": "343a397a",
   "metadata": {},
   "outputs": [
    {
     "name": "stderr",
     "output_type": "stream",
     "text": [
      "/Users/dimarhill/opt/anaconda3/lib/python3.9/site-packages/sklearn/utils/deprecation.py:87: FutureWarning: Function get_feature_names is deprecated; get_feature_names is deprecated in 1.0 and will be removed in 1.2. Please use get_feature_names_out instead.\n",
      "  warnings.warn(msg, category=FutureWarning)\n"
     ]
    },
    {
     "data": {
      "text/plain": [
       "['000',\n",
       " '0216a7877976',\n",
       " '04',\n",
       " '06',\n",
       " '07',\n",
       " '08',\n",
       " '09',\n",
       " '10',\n",
       " '100',\n",
       " '1000th',\n",
       " '102',\n",
       " '103',\n",
       " '105',\n",
       " '106',\n",
       " '107',\n",
       " '108',\n",
       " '1080p',\n",
       " '109',\n",
       " '1098',\n",
       " '10million',\n",
       " '10pts',\n",
       " '10th',\n",
       " '11',\n",
       " '110',\n",
       " '111',\n",
       " '112',\n",
       " '114',\n",
       " '115',\n",
       " '116',\n",
       " '117',\n",
       " '119',\n",
       " '11pts',\n",
       " '12',\n",
       " '120',\n",
       " '121',\n",
       " '122',\n",
       " '125',\n",
       " '1265',\n",
       " '128',\n",
       " '12p',\n",
       " '13',\n",
       " '130',\n",
       " '132',\n",
       " '137',\n",
       " '1396',\n",
       " '13th',\n",
       " '14',\n",
       " '141',\n",
       " '144',\n",
       " '14k',\n",
       " '14kprize',\n",
       " '15',\n",
       " '1583664010733400064',\n",
       " '1583874355439710208',\n",
       " '16',\n",
       " '16p',\n",
       " '16th',\n",
       " '17',\n",
       " '18',\n",
       " '18td',\n",
       " '19',\n",
       " '1936',\n",
       " '1969',\n",
       " '1977',\n",
       " '1982',\n",
       " '1984',\n",
       " '1987',\n",
       " '1990',\n",
       " '1993',\n",
       " '1994',\n",
       " '19pts',\n",
       " '1a',\n",
       " '1blk',\n",
       " '1k',\n",
       " '1st',\n",
       " '20',\n",
       " '200',\n",
       " '2000',\n",
       " '2001',\n",
       " '2002',\n",
       " '2003',\n",
       " '2004',\n",
       " '2005',\n",
       " '2006',\n",
       " '2007',\n",
       " '2008',\n",
       " '2010',\n",
       " '2011',\n",
       " '2012',\n",
       " '2013',\n",
       " '2014',\n",
       " '2015',\n",
       " '2016',\n",
       " '2017',\n",
       " '2018',\n",
       " '2019',\n",
       " '2020',\n",
       " '2021',\n",
       " '2022',\n",
       " '2023',\n",
       " '2024',\n",
       " '2027',\n",
       " '2029',\n",
       " '2093',\n",
       " '20k',\n",
       " '20td',\n",
       " '20th',\n",
       " '21',\n",
       " '2159',\n",
       " '21st',\n",
       " '22',\n",
       " '222',\n",
       " '226',\n",
       " '23',\n",
       " '237',\n",
       " '239',\n",
       " '24',\n",
       " '24th',\n",
       " '25',\n",
       " '26',\n",
       " '260',\n",
       " '27',\n",
       " '27pts',\n",
       " '27th',\n",
       " '28',\n",
       " '29',\n",
       " '295',\n",
       " '299',\n",
       " '29th',\n",
       " '2a',\n",
       " '2ast',\n",
       " '2k',\n",
       " '2nd',\n",
       " '2r',\n",
       " '2s',\n",
       " '30',\n",
       " '300',\n",
       " '31',\n",
       " '32',\n",
       " '324th',\n",
       " '33',\n",
       " '331',\n",
       " '335',\n",
       " '33pts',\n",
       " '34',\n",
       " '35',\n",
       " '356',\n",
       " '36',\n",
       " '37',\n",
       " '37th',\n",
       " '39',\n",
       " '3fg',\n",
       " '3m',\n",
       " '3p',\n",
       " '3pt',\n",
       " '3rd',\n",
       " '40',\n",
       " '41',\n",
       " '42',\n",
       " '44',\n",
       " '45',\n",
       " '46',\n",
       " '47',\n",
       " '48',\n",
       " '49',\n",
       " '49ers',\n",
       " '4ast',\n",
       " '4b16',\n",
       " '4th',\n",
       " '50',\n",
       " '500',\n",
       " '50th',\n",
       " '53',\n",
       " '538',\n",
       " '545',\n",
       " '56',\n",
       " '57',\n",
       " '577',\n",
       " '59',\n",
       " '5int',\n",
       " '5m',\n",
       " '5on5',\n",
       " '5th',\n",
       " '60',\n",
       " '600k',\n",
       " '609',\n",
       " '60fps',\n",
       " '61',\n",
       " '62',\n",
       " '63',\n",
       " '64',\n",
       " '645',\n",
       " '65',\n",
       " '66',\n",
       " '67',\n",
       " '68',\n",
       " '69',\n",
       " '698',\n",
       " '6e71',\n",
       " '6r',\n",
       " '6th',\n",
       " '70',\n",
       " '706',\n",
       " '708',\n",
       " '71',\n",
       " '72',\n",
       " '73',\n",
       " '733',\n",
       " '74',\n",
       " '75',\n",
       " '76',\n",
       " '76ers',\n",
       " '77',\n",
       " '775m',\n",
       " '78',\n",
       " '781',\n",
       " '79',\n",
       " '790',\n",
       " '791',\n",
       " '7ft',\n",
       " '7reb',\n",
       " '7th',\n",
       " '80',\n",
       " '81',\n",
       " '819',\n",
       " '819125290',\n",
       " '82',\n",
       " '83',\n",
       " '84',\n",
       " '85',\n",
       " '854',\n",
       " '86',\n",
       " '87',\n",
       " '88',\n",
       " '89',\n",
       " '8reb',\n",
       " '8rebs',\n",
       " '8th',\n",
       " '90',\n",
       " '91',\n",
       " '94',\n",
       " '94f8',\n",
       " '95',\n",
       " '96',\n",
       " '97',\n",
       " '9int',\n",
       " 'aaron',\n",
       " 'ab',\n",
       " 'ab84',\n",
       " 'abdul',\n",
       " 'ability',\n",
       " 'able',\n",
       " 'about',\n",
       " 'above',\n",
       " 'absolute',\n",
       " 'absolutely',\n",
       " 'absurd',\n",
       " 'abuse',\n",
       " 'abysmal',\n",
       " 'accelerates',\n",
       " 'accept',\n",
       " 'according',\n",
       " 'account',\n",
       " 'accountability',\n",
       " 'accountable',\n",
       " 'accounting',\n",
       " 'accounts',\n",
       " 'accuracy',\n",
       " 'achieves',\n",
       " 'achiuwa',\n",
       " 'acl',\n",
       " 'acls',\n",
       " 'acquired',\n",
       " 'acrobatics',\n",
       " 'across',\n",
       " 'action',\n",
       " 'activated',\n",
       " 'active',\n",
       " 'actively',\n",
       " 'actually',\n",
       " 'ad',\n",
       " 'adam',\n",
       " 'adams',\n",
       " 'adamschein',\n",
       " 'add',\n",
       " 'added',\n",
       " 'adding',\n",
       " 'addition',\n",
       " 'adds',\n",
       " 'adebo',\n",
       " 'adelman',\n",
       " 'adjusted',\n",
       " 'administered',\n",
       " 'admit',\n",
       " 'advance',\n",
       " 'advancing',\n",
       " 'advertisements',\n",
       " 'advice',\n",
       " 'advised',\n",
       " 'aellae_k',\n",
       " 'afc',\n",
       " 'affect',\n",
       " 'after',\n",
       " 'afternoon',\n",
       " 'afterwards',\n",
       " 'again',\n",
       " 'against',\n",
       " 'age',\n",
       " 'agency',\n",
       " 'agent',\n",
       " 'aggressive',\n",
       " 'aggressiveness',\n",
       " 'ago',\n",
       " 'agree',\n",
       " 'ahead',\n",
       " 'ahem',\n",
       " 'ahold',\n",
       " 'aidan',\n",
       " 'air',\n",
       " 'aiyuk',\n",
       " 'aka',\n",
       " 'akers',\n",
       " 'al',\n",
       " 'albertbreer',\n",
       " 'album',\n",
       " 'aldama',\n",
       " 'alexander',\n",
       " 'alijah',\n",
       " 'alive',\n",
       " 'all',\n",
       " 'allegation',\n",
       " 'alleged',\n",
       " 'allegedly',\n",
       " 'allen',\n",
       " 'alley',\n",
       " 'allgeier',\n",
       " 'allow',\n",
       " 'allowed',\n",
       " 'allowing',\n",
       " 'allows',\n",
       " 'almost',\n",
       " 'alone',\n",
       " 'along',\n",
       " 'alontae',\n",
       " 'already',\n",
       " 'alright',\n",
       " 'also',\n",
       " 'altercation',\n",
       " 'alterna',\n",
       " 'alverado',\n",
       " 'always',\n",
       " 'am',\n",
       " 'amar',\n",
       " 'amazing',\n",
       " 'amazon',\n",
       " 'ambulance',\n",
       " 'amid',\n",
       " 'among',\n",
       " 'amongst',\n",
       " 'amp',\n",
       " 'an',\n",
       " 'analysis',\n",
       " 'analytics',\n",
       " 'analyzing',\n",
       " 'anavarathan',\n",
       " 'and',\n",
       " 'anderson',\n",
       " 'andre',\n",
       " 'andrew',\n",
       " 'andrews',\n",
       " 'android',\n",
       " 'andy',\n",
       " 'angeles',\n",
       " 'angle',\n",
       " 'angles',\n",
       " 'ankle',\n",
       " 'anniversary',\n",
       " 'announce',\n",
       " 'announced',\n",
       " 'announcement',\n",
       " 'announcers',\n",
       " 'announces',\n",
       " 'annoying',\n",
       " 'anonymous',\n",
       " 'another',\n",
       " 'ant',\n",
       " 'antetokounmpo',\n",
       " 'antetokwounmpo',\n",
       " 'anthony',\n",
       " 'antonio',\n",
       " 'anxiety',\n",
       " 'anxious',\n",
       " 'any',\n",
       " 'anybody',\n",
       " 'anymore',\n",
       " 'anyone',\n",
       " 'anything',\n",
       " 'anytime',\n",
       " 'anywhere',\n",
       " 'apex',\n",
       " 'apologizes',\n",
       " 'apology',\n",
       " 'app',\n",
       " 'apparently',\n",
       " 'appeal',\n",
       " 'appearance',\n",
       " 'appears',\n",
       " 'appreciated',\n",
       " 'approach',\n",
       " 'arch',\n",
       " 'are',\n",
       " 'area',\n",
       " 'aren',\n",
       " 'arena',\n",
       " 'arguably',\n",
       " 'ari',\n",
       " 'ariaguiar',\n",
       " 'arizona',\n",
       " 'arm',\n",
       " 'arms',\n",
       " 'armstrong',\n",
       " 'army',\n",
       " 'aron',\n",
       " 'around',\n",
       " 'arows',\n",
       " 'arrested',\n",
       " 'arrive',\n",
       " 'art',\n",
       " 'artbutmakeitsports',\n",
       " 'arthur',\n",
       " 'as',\n",
       " 'asap',\n",
       " 'ascertained',\n",
       " 'ask',\n",
       " 'asked',\n",
       " 'asking',\n",
       " 'assembled',\n",
       " 'asses',\n",
       " 'assignment',\n",
       " 'assisi',\n",
       " 'assist',\n",
       " 'assistant',\n",
       " 'assistants',\n",
       " 'assisted',\n",
       " 'assists',\n",
       " 'associates',\n",
       " 'association',\n",
       " 'ast',\n",
       " 'astronomical',\n",
       " 'asts',\n",
       " 'at',\n",
       " 'athletesfirst',\n",
       " 'athletic',\n",
       " 'atl',\n",
       " 'atlanta',\n",
       " 'atlantic',\n",
       " 'ato',\n",
       " 'atop',\n",
       " 'att',\n",
       " 'attack',\n",
       " 'attempt',\n",
       " 'attempted',\n",
       " 'attempts',\n",
       " 'attend',\n",
       " 'attended',\n",
       " 'attributions',\n",
       " 'auction',\n",
       " 'auman',\n",
       " 'austin',\n",
       " 'authority',\n",
       " 'autograph',\n",
       " 'autographs',\n",
       " 'available',\n",
       " 'average',\n",
       " 'averaged',\n",
       " 'averages',\n",
       " 'averaging',\n",
       " 'averse',\n",
       " 'avid',\n",
       " 'avoiding',\n",
       " 'avs',\n",
       " 'away',\n",
       " 'awful',\n",
       " 'awkward',\n",
       " 'aws',\n",
       " 'awuzie',\n",
       " 'ayed',\n",
       " 'ayo',\n",
       " 'ayton',\n",
       " 'az',\n",
       " 'azalea',\n",
       " 'azarly',\n",
       " 'azcardinals',\n",
       " 'b268a154',\n",
       " 'baby',\n",
       " 'back',\n",
       " 'backboard',\n",
       " 'backfired',\n",
       " 'background',\n",
       " 'backlash',\n",
       " 'backs',\n",
       " 'backup',\n",
       " 'bad',\n",
       " 'badge',\n",
       " 'bailey',\n",
       " 'baker',\n",
       " 'bakhtiari',\n",
       " 'balance',\n",
       " 'baldinger',\n",
       " 'baldysbreakdowns',\n",
       " 'balko',\n",
       " 'ball',\n",
       " 'ballard',\n",
       " 'ballmer',\n",
       " 'balls',\n",
       " 'baltimore',\n",
       " 'bam',\n",
       " 'banchero',\n",
       " 'banished',\n",
       " 'bank',\n",
       " 'barbosa',\n",
       " 'bare',\n",
       " 'bargain',\n",
       " 'barker',\n",
       " 'barkley',\n",
       " 'barnes',\n",
       " 'baron',\n",
       " 'barrels',\n",
       " 'barrett',\n",
       " 'barring',\n",
       " 'barrows',\n",
       " 'base',\n",
       " 'based',\n",
       " 'baseline',\n",
       " 'basically',\n",
       " 'basics',\n",
       " 'basketball',\n",
       " 'bat',\n",
       " 'bateman',\n",
       " 'bathrooms',\n",
       " 'battery',\n",
       " 'battle',\n",
       " 'battled',\n",
       " 'bay',\n",
       " 'bc',\n",
       " 'be',\n",
       " 'beard',\n",
       " 'bears',\n",
       " 'beasley',\n",
       " 'beast',\n",
       " 'beat',\n",
       " 'beaten',\n",
       " 'beating',\n",
       " 'beautiful',\n",
       " 'became',\n",
       " 'because',\n",
       " 'beckham',\n",
       " 'become',\n",
       " 'becomes',\n",
       " 'becoming',\n",
       " 'bed',\n",
       " 'been',\n",
       " 'before',\n",
       " 'beforehand',\n",
       " 'began',\n",
       " 'begin',\n",
       " 'beginning',\n",
       " 'behind',\n",
       " 'being',\n",
       " 'belestrator',\n",
       " 'belfe2cupz',\n",
       " 'belichick',\n",
       " 'belief',\n",
       " 'believe',\n",
       " 'believed',\n",
       " 'believer',\n",
       " 'believes',\n",
       " 'bell',\n",
       " 'bellinger',\n",
       " 'belongs',\n",
       " 'below',\n",
       " 'ben',\n",
       " 'bench',\n",
       " 'benched',\n",
       " 'benching',\n",
       " 'benedict',\n",
       " 'benefit',\n",
       " 'benefited',\n",
       " 'bengals',\n",
       " 'benjamin',\n",
       " 'bennedict',\n",
       " 'besides',\n",
       " 'best',\n",
       " 'bet',\n",
       " 'bets',\n",
       " 'better',\n",
       " 'betting',\n",
       " 'between',\n",
       " 'bev',\n",
       " 'beverly',\n",
       " 'beyond',\n",
       " 'bezos',\n",
       " 'bickerstaff',\n",
       " 'biden',\n",
       " 'big',\n",
       " 'bigger',\n",
       " 'biggest',\n",
       " 'bill',\n",
       " 'billhubernfl',\n",
       " 'billionaire',\n",
       " 'bills',\n",
       " 'billups',\n",
       " 'billyhottakes',\n",
       " 'bird',\n",
       " 'birthday',\n",
       " 'bitcoins',\n",
       " 'bizarre',\n",
       " 'bk',\n",
       " 'black',\n",
       " 'blacked',\n",
       " 'blame',\n",
       " 'blank',\n",
       " 'blankenship',\n",
       " 'blast',\n",
       " 'blazers',\n",
       " 'bleacher',\n",
       " 'bleak',\n",
       " 'bleeding',\n",
       " 'bleepin',\n",
       " 'blitz',\n",
       " 'blk',\n",
       " 'block',\n",
       " 'blocked',\n",
       " 'blocking',\n",
       " 'blocks',\n",
       " 'blog',\n",
       " 'blood',\n",
       " 'blow',\n",
       " 'blowing',\n",
       " 'blowout',\n",
       " 'board',\n",
       " 'boards',\n",
       " 'boban',\n",
       " 'bodner',\n",
       " 'bogdanovic',\n",
       " 'bol',\n",
       " 'bold',\n",
       " 'bone',\n",
       " 'bontemps',\n",
       " 'bonus',\n",
       " 'boo',\n",
       " 'booing',\n",
       " 'booker',\n",
       " 'boone',\n",
       " 'booth',\n",
       " 'booty',\n",
       " 'borwns',\n",
       " 'bosa',\n",
       " 'boston',\n",
       " 'both',\n",
       " 'bothering',\n",
       " 'bottom',\n",
       " 'bought',\n",
       " 'bounce',\n",
       " 'bounced',\n",
       " 'bounces',\n",
       " 'bout',\n",
       " 'bowl',\n",
       " 'bowles',\n",
       " 'box',\n",
       " 'boy',\n",
       " 'boys',\n",
       " 'brace',\n",
       " 'brad',\n",
       " 'bradberry',\n",
       " 'brady',\n",
       " 'brand',\n",
       " 'brandan',\n",
       " 'brandon',\n",
       " 'break',\n",
       " 'breakdown',\n",
       " 'breaking',\n",
       " 'breaks',\n",
       " 'breakups',\n",
       " 'breast',\n",
       " 'breath',\n",
       " 'breece',\n",
       " 'breeeeeece',\n",
       " 'breen',\n",
       " 'breer',\n",
       " 'brett',\n",
       " 'brian',\n",
       " 'bricking',\n",
       " 'bridget',\n",
       " 'bridgewater',\n",
       " 'bring',\n",
       " 'bringing',\n",
       " 'brings',\n",
       " 'brissett',\n",
       " 'brittney',\n",
       " 'broadcast',\n",
       " 'broadcasting',\n",
       " 'brock',\n",
       " 'brockman',\n",
       " 'brogdon',\n",
       " 'broken',\n",
       " 'bron',\n",
       " 'broncos',\n",
       " 'brook',\n",
       " 'brooke',\n",
       " 'brooklyn',\n",
       " 'brooks',\n",
       " 'brother',\n",
       " 'brown',\n",
       " 'browning',\n",
       " 'browns',\n",
       " 'browser',\n",
       " 'browsing',\n",
       " 'brush',\n",
       " 'brutal',\n",
       " 'bryan',\n",
       " 'bryant',\n",
       " 'bryce',\n",
       " 'bubba',\n",
       " 'buccaneers',\n",
       " 'bucket',\n",
       " 'buckets',\n",
       " 'bucks',\n",
       " 'bucs',\n",
       " 'bud',\n",
       " 'budge',\n",
       " 'buf',\n",
       " 'buffalo',\n",
       " 'buffalobills',\n",
       " 'buffalojetfan',\n",
       " 'bufvmia',\n",
       " 'buha',\n",
       " 'build',\n",
       " 'bukich',\n",
       " 'bullet',\n",
       " 'bullied',\n",
       " 'bulls',\n",
       " 'burford',\n",
       " 'burner',\n",
       " 'burns',\n",
       " 'burress',\n",
       " 'burrow',\n",
       " 'burton',\n",
       " 'bush',\n",
       " 'busted',\n",
       " 'but',\n",
       " 'butler',\n",
       " 'butt',\n",
       " 'buy',\n",
       " 'buying',\n",
       " 'buzzer',\n",
       " 'by',\n",
       " 'bye',\n",
       " 'byron',\n",
       " 'ca',\n",
       " 'cade',\n",
       " 'cake',\n",
       " 'caleb',\n",
       " 'call',\n",
       " 'called',\n",
       " 'caller',\n",
       " 'calling',\n",
       " 'calloway',\n",
       " 'calls',\n",
       " 'calms',\n",
       " 'cam',\n",
       " 'came',\n",
       " 'camera',\n",
       " 'campbell',\n",
       " 'can',\n",
       " 'canada',\n",
       " 'canceled',\n",
       " 'cancer',\n",
       " 'candace',\n",
       " 'candidate',\n",
       " 'cannon',\n",
       " 'cannot',\n",
       " 'cant',\n",
       " 'cap',\n",
       " 'capitalize',\n",
       " 'captions',\n",
       " 'capture',\n",
       " 'car',\n",
       " 'card',\n",
       " 'cardinals',\n",
       " 'cards',\n",
       " 'care',\n",
       " 'career',\n",
       " 'careful',\n",
       " 'cares',\n",
       " 'caring',\n",
       " 'carman',\n",
       " 'carolina',\n",
       " 'carrier',\n",
       " 'carroll',\n",
       " 'carry',\n",
       " 'carrying',\n",
       " 'carson',\n",
       " 'carted',\n",
       " 'case',\n",
       " 'cases',\n",
       " 'cash',\n",
       " 'cast',\n",
       " 'casually',\n",
       " 'cat',\n",
       " 'catch',\n",
       " 'catches',\n",
       " 'catchphrase',\n",
       " 'cathart',\n",
       " 'cathcart',\n",
       " 'caught',\n",
       " 'cause',\n",
       " 'caused',\n",
       " 'causing',\n",
       " 'cautious',\n",
       " 'cavaliers',\n",
       " 'cavs',\n",
       " 'cb',\n",
       " 'cbs',\n",
       " 'cbssportsnetwork',\n",
       " 'cedi',\n",
       " 'ceiling',\n",
       " 'celebrates',\n",
       " 'celebration',\n",
       " 'celebrity',\n",
       " 'celtic',\n",
       " 'celtics',\n",
       " 'center',\n",
       " 'centers',\n",
       " 'central',\n",
       " 'century',\n",
       " 'ceo',\n",
       " 'ceremony',\n",
       " 'certain',\n",
       " 'challenge',\n",
       " 'challenging',\n",
       " 'chamberlain',\n",
       " 'champion',\n",
       " 'championship',\n",
       " 'championships',\n",
       " 'chance',\n",
       " 'chances',\n",
       " 'change',\n",
       " 'changes',\n",
       " 'changing',\n",
       " 'chappell',\n",
       " 'characteristics',\n",
       " 'charania',\n",
       " 'charge',\n",
       " 'chargers',\n",
       " 'charitable',\n",
       " 'charity',\n",
       " 'charles',\n",
       " 'charley',\n",
       " 'charliey',\n",
       " 'charlotte',\n",
       " 'chart',\n",
       " 'chase',\n",
       " 'chases',\n",
       " 'chat',\n",
       " 'chauncey',\n",
       " 'check',\n",
       " 'checking',\n",
       " 'checks',\n",
       " 'cheeky',\n",
       " 'cheers',\n",
       " 'chef',\n",
       " 'chemistry',\n",
       " 'chicago',\n",
       " 'chidobe',\n",
       " 'chiefs',\n",
       " 'child',\n",
       " 'children',\n",
       " 'chip',\n",
       " 'chipped',\n",
       " 'choices',\n",
       " 'choked',\n",
       " 'choking',\n",
       " 'choose',\n",
       " 'chris',\n",
       " 'christian',\n",
       " 'christmas',\n",
       " 'chubb',\n",
       " 'chuck',\n",
       " 'cimini',\n",
       " 'cin',\n",
       " 'cincinnati',\n",
       " 'cincy',\n",
       " 'citak',\n",
       " 'cities',\n",
       " 'city',\n",
       " 'clarify',\n",
       " 'class',\n",
       " 'classic',\n",
       " 'classics',\n",
       " 'claypool',\n",
       " 'cle',\n",
       " 'clean',\n",
       " 'clear',\n",
       " 'cleared',\n",
       " 'clearly',\n",
       " 'cleveland',\n",
       " 'clip',\n",
       " 'clipboard',\n",
       " 'clipper',\n",
       " 'clippers',\n",
       " 'clips',\n",
       " 'clock',\n",
       " 'close',\n",
       " 'closed',\n",
       " 'closeout',\n",
       " 'closest',\n",
       " 'clothes',\n",
       " 'club',\n",
       " 'clutch',\n",
       " 'cmc',\n",
       " 'cmc_22',\n",
       " 'cmp',\n",
       " 'co',\n",
       " 'coach',\n",
       " 'coached',\n",
       " 'coaches',\n",
       " 'coaching',\n",
       " 'coachjim4um',\n",
       " 'coast',\n",
       " 'cock',\n",
       " 'code',\n",
       " 'cold',\n",
       " 'cole',\n",
       " 'collapse',\n",
       " 'collected',\n",
       " 'collective',\n",
       " 'college',\n",
       " 'collin',\n",
       " 'collinsworth',\n",
       " 'color',\n",
       " 'colorado',\n",
       " 'colts',\n",
       " 'com',\n",
       " 'combat',\n",
       " 'combine',\n",
       " 'combined',\n",
       " 'come',\n",
       " 'comeback',\n",
       " 'comebacks',\n",
       " 'comedian',\n",
       " 'comes',\n",
       " 'comfort',\n",
       " 'comfortable',\n",
       " 'coming',\n",
       " 'commanders',\n",
       " 'commenced',\n",
       " 'comment',\n",
       " 'commentary',\n",
       " 'commentating',\n",
       " 'commentator',\n",
       " 'comments',\n",
       " 'commercial',\n",
       " 'commercials',\n",
       " 'commissioner',\n",
       " 'commitment',\n",
       " 'committed',\n",
       " 'communication',\n",
       " 'communities',\n",
       " 'comp',\n",
       " 'company',\n",
       " 'compares',\n",
       " 'comparing',\n",
       " 'comparison',\n",
       " 'comparisons',\n",
       " 'compensatory',\n",
       " 'competent',\n",
       " 'competes',\n",
       " 'competing',\n",
       " 'compilation',\n",
       " 'completed',\n",
       " 'completely',\n",
       " 'completes',\n",
       " 'completion',\n",
       " 'comps',\n",
       " 'computer',\n",
       " 'concept',\n",
       " 'concerns',\n",
       " 'concussion',\n",
       " 'condon',\n",
       " 'conduct',\n",
       " 'conference',\n",
       " 'conferences',\n",
       " 'confirmed',\n",
       " 'conflict',\n",
       " 'confused',\n",
       " 'congrats',\n",
       " 'conjures',\n",
       " 'conley',\n",
       " 'connect',\n",
       " ...]"
      ]
     },
     "execution_count": 41,
     "metadata": {},
     "output_type": "execute_result"
    }
   ],
   "source": [
    "cvec.get_feature_names()"
   ]
  },
  {
   "cell_type": "code",
   "execution_count": 42,
   "id": "3e5a647b",
   "metadata": {},
   "outputs": [],
   "source": [
    "X_train_df = pd.DataFrame(X_train.todense(), \n",
    "                          columns=cvec.get_feature_names())"
   ]
  },
  {
   "cell_type": "markdown",
   "id": "8cc696c3",
   "metadata": {},
   "source": [
    "#### Top 10 Words including Stop Words"
   ]
  },
  {
   "cell_type": "code",
   "execution_count": 43,
   "id": "969d69fa",
   "metadata": {},
   "outputs": [
    {
     "data": {
      "image/png": "[encoded data removed]",
      "text/plain": [
       "<Figure size 432x288 with 1 Axes>"
      ]
     },
     "metadata": {
      "needs_background": "light"
     },
     "output_type": "display_data"
    }
   ],
   "source": [
    "X_train_df.sum().sort_values(ascending = False).head(10).plot(kind = 'barh');\n",
    "plt.title('NBA/NFL TOP 10 WORDS');"
   ]
  },
  {
   "cell_type": "markdown",
   "id": "dcc1032e",
   "metadata": {},
   "source": [
    "### OLS Train/Test Split Model Excluding Stop Words"
   ]
  },
  {
   "cell_type": "code",
   "execution_count": 44,
   "id": "878e5079",
   "metadata": {},
   "outputs": [
    {
     "name": "stdout",
     "output_type": "stream",
     "text": [
      "frozenset({'while', 'less', 'co', 'this', 'via', 'fifteen', 'ltd', 'might', 'rather', 'most', 'serious', 'part', 'six', 'same', 'per', 'up', 'seem', 'latterly', 'mill', 'well', 'of', 'their', 'afterwards', 'although', 'from', 'either', 'sixty', 'five', 'us', 'themselves', 'through', 'over', 'mostly', 'or', 'next', 'would', 'our', 'whence', 'de', 'had', 'twenty', 'already', 'get', 'go', 'you', 'somewhere', 'put', 'behind', 'anywhere', 'beyond', 'such', 'also', 'once', 'in', 'it', 'is', 'whom', 'done', 'three', 'couldnt', 'to', 'almost', 'until', 'someone', 'him', 'by', 'here', 'seeming', 'other', 'last', 'between', 'its', 'his', 'down', 'since', 'keep', 'where', 'full', 'could', 'further', 'a', 'eg', 'under', 'because', 'sometimes', 'becomes', 'anyone', 'only', 'twelve', 'throughout', 'except', 'below', 'were', 'nor', 'however', 'ours', 'may', 'been', 'though', 'enough', 'latter', 'your', 'which', 'no', 'ten', 'move', 'was', 'hereupon', 'yourself', 'hers', 'none', 'seems', 'my', 'myself', 'onto', 'bill', 'me', 'still', 'being', 'whereby', 'noone', 'thereafter', 'again', 'detail', 'very', 'bottom', 'much', 'etc', 'made', 'whoever', 'as', 'at', 'yours', 'wherein', 'without', 'within', 'who', 'third', 'un', 'becoming', 'ever', 'should', 'ourselves', 'too', 'whereas', 'himself', 'nowhere', 'everyone', 'beside', 'them', 'across', 'along', 'thin', 'front', 'forty', 'out', 'back', 'whether', 'i', 'inc', 'top', 'among', 'whatever', 'yourselves', 'ie', 'thus', 'whole', 'he', 'those', 'so', 'found', 'give', 'describe', 'not', 'thereby', 'anything', 'please', 'moreover', 'several', 'become', 'hasnt', 'cry', 'never', 'namely', 'together', 'an', 'hereafter', 'before', 'besides', 'nine', 'sometime', 'nothing', 'formerly', 'somehow', 'amongst', 'that', 'her', 'whereafter', 'first', 'these', 'amount', 'therein', 'mine', 'elsewhere', 'and', 'became', 'fill', 'wherever', 'cant', 'whenever', 'take', 'herein', 'for', 'thru', 'each', 'then', 'now', 'empty', 'amoungst', 'perhaps', 'least', 'itself', 'more', 'hereby', 'indeed', 'due', 'on', 'has', 'few', 'call', 'meanwhile', 'often', 'fire', 'whose', 'off', 'side', 'towards', 'upon', 'into', 'hence', 'yet', 'many', 'two', 'cannot', 'eleven', 'interest', 'toward', 'something', 'must', 'everything', 'thence', 'am', 'find', 'above', 'system', 'the', 'there', 'thereupon', 'neither', 'even', 'otherwise', 'every', 'can', 'with', 'alone', 'others', 'seemed', 'beforehand', 'fifty', 'when', 'therefore', 'are', 'con', 'around', 'name', 'they', 'four', 'always', 'any', 'she', 'but', 'how', 'be', 'whereupon', 'sincere', 're', 'nevertheless', 'one', 'anyhow', 'about', 'have', 'will', 'some', 'than', 'hundred', 'why', 'nobody', 'own', 'everywhere', 'anyway', 'we', 'another', 'do', 'after', 'former', 'what', 'eight', 'during', 'whither', 'show', 'else', 'against', 'all', 'thick', 'if', 'see', 'herself', 'both'})\n"
     ]
    }
   ],
   "source": [
    "print(CountVectorizer(stop_words = 'english').get_stop_words())"
   ]
  },
  {
   "cell_type": "code",
   "execution_count": 45,
   "id": "84f78a02",
   "metadata": {},
   "outputs": [],
   "source": [
    "X_train, X_test, y_train, y_test = train_test_split(X,\n",
    "                                                    y,\n",
    "                                                    stratify=y,\n",
    "                                                    random_state=42)"
   ]
  },
  {
   "cell_type": "code",
   "execution_count": 46,
   "id": "6517f1c9",
   "metadata": {},
   "outputs": [],
   "source": [
    "# Instantiate (w/ Stop Words)\n",
    "cvec = CountVectorizer(stop_words = 'english')\n",
    "\n",
    "#Fit\n",
    "cvec.fit(X_train)\n",
    "\n",
    "#Transform\n",
    "X_train = cvec.transform(X_train)\n",
    "X_test = cvec.transform(X_test)"
   ]
  },
  {
   "cell_type": "code",
   "execution_count": 47,
   "id": "e6b996f1",
   "metadata": {},
   "outputs": [
    {
     "name": "stderr",
     "output_type": "stream",
     "text": [
      "/Users/dimarhill/opt/anaconda3/lib/python3.9/site-packages/sklearn/utils/deprecation.py:87: FutureWarning: Function get_feature_names is deprecated; get_feature_names is deprecated in 1.0 and will be removed in 1.2. Please use get_feature_names_out instead.\n",
      "  warnings.warn(msg, category=FutureWarning)\n"
     ]
    }
   ],
   "source": [
    "X_train_df = pd.DataFrame(X_train.todense(), \n",
    "                          columns=cvec.get_feature_names())"
   ]
  },
  {
   "cell_type": "markdown",
   "id": "d9e34109",
   "metadata": {},
   "source": [
    "#### Top 10 Words Excluding Stop Words "
   ]
  },
  {
   "cell_type": "code",
   "execution_count": 48,
   "id": "de6af57d",
   "metadata": {
    "scrolled": true
   },
   "outputs": [
    {
     "data": {
      "image/png": "[encoded data removed]",
      "text/plain": [
       "<Figure size 432x288 with 1 Axes>"
      ]
     },
     "metadata": {
      "needs_background": "light"
     },
     "output_type": "display_data"
    }
   ],
   "source": [
    "X_train_df.sum().sort_values(ascending = False).head(10).plot(kind = 'barh');\n",
    "plt.title('NBA/NFL TOP 10 WORDS EXCLUDING STOP WORDS');"
   ]
  },
  {
   "cell_type": "code",
   "execution_count": 49,
   "id": "3f6f0948",
   "metadata": {},
   "outputs": [],
   "source": [
    "X_train, X_test, y_train, y_test = train_test_split(X,\n",
    "                                                    y,\n",
    "                                                    stratify=y,\n",
    "                                                    random_state=42)"
   ]
  },
  {
   "cell_type": "code",
   "execution_count": 50,
   "id": "142a6a19",
   "metadata": {},
   "outputs": [],
   "source": [
    "# Instantiate (w/ ngrams)\n",
    "cvec = CountVectorizer(stop_words = 'english', ngram_range = (2,2))\n",
    "\n",
    "#Fit\n",
    "cvec.fit(X_train)\n",
    "\n",
    "#Transform\n",
    "X_train = cvec.transform(X_train)\n",
    "X_test = cvec.transform(X_test)"
   ]
  },
  {
   "cell_type": "code",
   "execution_count": 51,
   "id": "de12362a",
   "metadata": {},
   "outputs": [
    {
     "name": "stderr",
     "output_type": "stream",
     "text": [
      "/Users/dimarhill/opt/anaconda3/lib/python3.9/site-packages/sklearn/utils/deprecation.py:87: FutureWarning: Function get_feature_names is deprecated; get_feature_names is deprecated in 1.0 and will be removed in 1.2. Please use get_feature_names_out instead.\n",
      "  warnings.warn(msg, category=FutureWarning)\n"
     ]
    }
   ],
   "source": [
    "X_train_df = pd.DataFrame(X_train.todense(), \n",
    "                          columns=cvec.get_feature_names())"
   ]
  },
  {
   "cell_type": "markdown",
   "id": "0ff54e58",
   "metadata": {},
   "source": [
    "### Top 10 Words Excluding Stop Words & Only 2 word phrases"
   ]
  },
  {
   "cell_type": "code",
   "execution_count": 52,
   "id": "90b936cb",
   "metadata": {
    "scrolled": true
   },
   "outputs": [
    {
     "data": {
      "image/png": "[encoded data removed]",
      "text/plain": [
       "<Figure size 432x288 with 1 Axes>"
      ]
     },
     "metadata": {
      "needs_background": "light"
     },
     "output_type": "display_data"
    }
   ],
   "source": [
    "X_train_df.sum().sort_values(ascending = False).head(10).plot(kind = 'barh');\n",
    "plt.title('NBA/NFL TOP 10 PHRASES');"
   ]
  },
  {
   "cell_type": "markdown",
   "id": "9bbaf1c8",
   "metadata": {},
   "source": [
    "# Modeling"
   ]
  },
  {
   "cell_type": "markdown",
   "id": "73f87980",
   "metadata": {},
   "source": [
    "####  Redefined training and testing sets"
   ]
  },
  {
   "cell_type": "code",
   "execution_count": 53,
   "id": "4b05fa18",
   "metadata": {},
   "outputs": [],
   "source": [
    "X_train, X_test, y_train, y_test = train_test_split(X,\n",
    "                                                    y,\n",
    "                                                    stratify=y,\n",
    "                                                    random_state=42)"
   ]
  },
  {
   "cell_type": "markdown",
   "id": "b6a66db7",
   "metadata": {},
   "source": [
    "#### Baseline accuracy"
   ]
  },
  {
   "cell_type": "code",
   "execution_count": 54,
   "id": "1f98f8f0",
   "metadata": {
    "scrolled": true
   },
   "outputs": [
    {
     "data": {
      "text/plain": [
       "1    0.5\n",
       "0    0.5\n",
       "Name: subreddit, dtype: float64"
      ]
     },
     "execution_count": 54,
     "metadata": {},
     "output_type": "execute_result"
    }
   ],
   "source": [
    "y_test.value_counts(normalize = True)"
   ]
  },
  {
   "cell_type": "code",
   "execution_count": 55,
   "id": "030f6297",
   "metadata": {},
   "outputs": [],
   "source": [
    "cvec = CountVectorizer()"
   ]
  },
  {
   "cell_type": "markdown",
   "id": "73158c06",
   "metadata": {},
   "source": [
    "### Naive Bayes"
   ]
  },
  {
   "cell_type": "code",
   "execution_count": 56,
   "id": "917113c9",
   "metadata": {},
   "outputs": [],
   "source": [
    "pipe = Pipeline([\n",
    "    ('cvec', CountVectorizer()),\n",
    "    ('nb', MultinomialNB())\n",
    "])"
   ]
  },
  {
   "cell_type": "code",
   "execution_count": 57,
   "id": "8775c1fe",
   "metadata": {},
   "outputs": [],
   "source": [
    "pipe_params = {\n",
    "    'cvec__stop_words':[None, 'english'],\n",
    "    'cvec__min_df': [2, 3],\n",
    "    'cvec__max_df': [.9, .95],\n",
    "    'cvec__ngram_range': [(1,1), (1, 2)]\n",
    "}"
   ]
  },
  {
   "cell_type": "code",
   "execution_count": 58,
   "id": "39e91701",
   "metadata": {},
   "outputs": [],
   "source": [
    "gs = GridSearchCV(pipe,\n",
    "                 param_grid = pipe_params, \n",
    "                  cv = 5) "
   ]
  },
  {
   "cell_type": "code",
   "execution_count": 59,
   "id": "478cc10f",
   "metadata": {},
   "outputs": [
    {
     "data": {
      "text/plain": [
       "GridSearchCV(cv=5,\n",
       "             estimator=Pipeline(steps=[('cvec', CountVectorizer()),\n",
       "                                       ('nb', MultinomialNB())]),\n",
       "             param_grid={'cvec__max_df': [0.9, 0.95], 'cvec__min_df': [2, 3],\n",
       "                         'cvec__ngram_range': [(1, 1), (1, 2)],\n",
       "                         'cvec__stop_words': [None, 'english']})"
      ]
     },
     "execution_count": 59,
     "metadata": {},
     "output_type": "execute_result"
    }
   ],
   "source": [
    "gs.fit(X_train, y_train)"
   ]
  },
  {
   "cell_type": "code",
   "execution_count": 60,
   "id": "6223ec4d",
   "metadata": {},
   "outputs": [
    {
     "data": {
      "text/plain": [
       "{'cvec__max_df': 0.9,\n",
       " 'cvec__min_df': 2,\n",
       " 'cvec__ngram_range': (1, 1),\n",
       " 'cvec__stop_words': 'english'}"
      ]
     },
     "execution_count": 60,
     "metadata": {},
     "output_type": "execute_result"
    }
   ],
   "source": [
    "gs.best_params_"
   ]
  },
  {
   "cell_type": "code",
   "execution_count": 61,
   "id": "4587b4fe",
   "metadata": {},
   "outputs": [
    {
     "data": {
      "text/plain": [
       "0.908"
      ]
     },
     "execution_count": 61,
     "metadata": {},
     "output_type": "execute_result"
    }
   ],
   "source": [
    "gs.score(X_test, y_test)"
   ]
  },
  {
   "cell_type": "code",
   "execution_count": 62,
   "id": "73140256",
   "metadata": {},
   "outputs": [
    {
     "data": {
      "text/plain": [
       "0.9659318637274549"
      ]
     },
     "execution_count": 62,
     "metadata": {},
     "output_type": "execute_result"
    }
   ],
   "source": [
    "gs.score(X_train, y_train)"
   ]
  },
  {
   "cell_type": "code",
   "execution_count": 89,
   "id": "4798252b",
   "metadata": {},
   "outputs": [
    {
     "name": "stderr",
     "output_type": "stream",
     "text": [
      "/Users/dimarhill/opt/anaconda3/lib/python3.9/site-packages/sklearn/utils/deprecation.py:87: FutureWarning: Function plot_confusion_matrix is deprecated; Function `plot_confusion_matrix` is deprecated in 1.0 and will be removed in 1.2. Use one of the class methods: ConfusionMatrixDisplay.from_predictions or ConfusionMatrixDisplay.from_estimator.\n",
      "  warnings.warn(msg, category=FutureWarning)\n"
     ]
    },
    {
     "data": {
      "image/png": "[encoded data removed]",
      "text/plain": [
       "<Figure size 432x288 with 2 Axes>"
      ]
     },
     "metadata": {
      "needs_background": "light"
     },
     "output_type": "display_data"
    }
   ],
   "source": [
    "plot_confusion_matrix(gs, X_test, y_test, cmap='Reds', values_format='d', display_labels=['NFL', 'NBA']);\n",
    "plt.title('NBA/NFL ACCURACY RATE');"
   ]
  },
  {
   "cell_type": "markdown",
   "id": "61e670c3",
   "metadata": {},
   "source": [
    "- 231/250 True/Positive for NFL\n",
    "- 223/260 True/Positive for NBA"
   ]
  },
  {
   "cell_type": "markdown",
   "id": "002eb212",
   "metadata": {},
   "source": [
    "### Logistic Regression"
   ]
  },
  {
   "cell_type": "code",
   "execution_count": 64,
   "id": "5fa12216",
   "metadata": {},
   "outputs": [],
   "source": [
    "pipe2 = Pipeline([\n",
    "    ('cvec', CountVectorizer()),\n",
    "    ('logreg',LogisticRegression(penalty='none'))\n",
    "])"
   ]
  },
  {
   "cell_type": "code",
   "execution_count": 65,
   "id": "635328c0",
   "metadata": {},
   "outputs": [],
   "source": [
    "pipe_params = {\n",
    "    'cvec__stop_words':[None, 'english'],\n",
    "    'cvec__min_df': [2, 3],\n",
    "    'cvec__max_df': [.9, .95],\n",
    "    'cvec__ngram_range': [(1,1), (1, 2)]\n",
    "}"
   ]
  },
  {
   "cell_type": "code",
   "execution_count": 66,
   "id": "d3ca2b9f",
   "metadata": {},
   "outputs": [],
   "source": [
    "gs2 = GridSearchCV(pipe2, # what object are we optimizing?\n",
    "                 param_grid = pipe_params, # what parameters values are we searching?\n",
    "                  cv = 5) # 5-fold cross-validation."
   ]
  },
  {
   "cell_type": "code",
   "execution_count": 67,
   "id": "190ccb34",
   "metadata": {},
   "outputs": [
    {
     "data": {
      "text/plain": [
       "GridSearchCV(cv=5,\n",
       "             estimator=Pipeline(steps=[('cvec', CountVectorizer()),\n",
       "                                       ('logreg',\n",
       "                                        LogisticRegression(penalty='none'))]),\n",
       "             param_grid={'cvec__max_df': [0.9, 0.95], 'cvec__min_df': [2, 3],\n",
       "                         'cvec__ngram_range': [(1, 1), (1, 2)],\n",
       "                         'cvec__stop_words': [None, 'english']})"
      ]
     },
     "execution_count": 67,
     "metadata": {},
     "output_type": "execute_result"
    }
   ],
   "source": [
    "gs2.fit(X_train, y_train)"
   ]
  },
  {
   "cell_type": "code",
   "execution_count": 68,
   "id": "d59c466f",
   "metadata": {},
   "outputs": [
    {
     "data": {
      "text/plain": [
       "{'cvec__max_df': 0.9,\n",
       " 'cvec__min_df': 2,\n",
       " 'cvec__ngram_range': (1, 1),\n",
       " 'cvec__stop_words': None}"
      ]
     },
     "execution_count": 68,
     "metadata": {},
     "output_type": "execute_result"
    }
   ],
   "source": [
    "gs2.best_params_"
   ]
  },
  {
   "cell_type": "code",
   "execution_count": 69,
   "id": "88087645",
   "metadata": {},
   "outputs": [
    {
     "data": {
      "text/plain": [
       "0.892"
      ]
     },
     "execution_count": 69,
     "metadata": {},
     "output_type": "execute_result"
    }
   ],
   "source": [
    "gs2.score(X_test, y_test)"
   ]
  },
  {
   "cell_type": "code",
   "execution_count": 70,
   "id": "24257216",
   "metadata": {},
   "outputs": [
    {
     "data": {
      "text/plain": [
       "0.9959919839679359"
      ]
     },
     "execution_count": 70,
     "metadata": {},
     "output_type": "execute_result"
    }
   ],
   "source": [
    "gs2.score(X_train, y_train)"
   ]
  },
  {
   "cell_type": "code",
   "execution_count": 90,
   "id": "3f2e1b9e",
   "metadata": {},
   "outputs": [
    {
     "name": "stderr",
     "output_type": "stream",
     "text": [
      "/Users/dimarhill/opt/anaconda3/lib/python3.9/site-packages/sklearn/utils/deprecation.py:87: FutureWarning: Function plot_confusion_matrix is deprecated; Function `plot_confusion_matrix` is deprecated in 1.0 and will be removed in 1.2. Use one of the class methods: ConfusionMatrixDisplay.from_predictions or ConfusionMatrixDisplay.from_estimator.\n",
      "  warnings.warn(msg, category=FutureWarning)\n"
     ]
    },
    {
     "data": {
      "image/png": "[encoded data removed]",
      "text/plain": [
       "<Figure size 432x288 with 2 Axes>"
      ]
     },
     "metadata": {
      "needs_background": "light"
     },
     "output_type": "display_data"
    }
   ],
   "source": [
    "plot_confusion_matrix(gs2, X_test, y_test, cmap='Reds', values_format='d', display_labels=['NFL', 'NBA']);\n",
    "plt.title('NBA/NFL ACCURACY RATE');"
   ]
  },
  {
   "cell_type": "markdown",
   "id": "92bd19a1",
   "metadata": {},
   "source": [
    "- 218/250 True/Positive for NFL\n",
    "- 228/250 True/Positive for NBA"
   ]
  },
  {
   "cell_type": "markdown",
   "id": "539b7f79",
   "metadata": {},
   "source": [
    "# Randon Forest"
   ]
  },
  {
   "cell_type": "code",
   "execution_count": 100,
   "id": "b0578373",
   "metadata": {},
   "outputs": [],
   "source": [
    "rfc = RandomForestClassifier()"
   ]
  },
  {
   "cell_type": "code",
   "execution_count": 101,
   "id": "f71d3689",
   "metadata": {},
   "outputs": [],
   "source": [
    "pipe3 = Pipeline([\n",
    "    ('cvec', CountVectorizer()),\n",
    "    ('rfc',RandomForestClassifier())\n",
    "])"
   ]
  },
  {
   "cell_type": "code",
   "execution_count": 102,
   "id": "c8b07154",
   "metadata": {},
   "outputs": [],
   "source": [
    "pipe_params = {\n",
    "    'cvec__stop_words':[None, 'english'],\n",
    "    'cvec__min_df': [2, 3],\n",
    "    'cvec__max_df': [.9, .95],\n",
    "    'cvec__ngram_range': [(1,1), (1, 2)]\n",
    "}"
   ]
  },
  {
   "cell_type": "code",
   "execution_count": 103,
   "id": "69c14d65",
   "metadata": {},
   "outputs": [],
   "source": [
    "gs3 = GridSearchCV(pipe3, # what object are we optimizing?\n",
    "                 param_grid = pipe_params, # what parameters values are we searching?\n",
    "                  cv = 5) # 5-fold cross-validation."
   ]
  },
  {
   "cell_type": "code",
   "execution_count": 104,
   "id": "8bd5ecaa",
   "metadata": {},
   "outputs": [
    {
     "data": {
      "text/plain": [
       "GridSearchCV(cv=5,\n",
       "             estimator=Pipeline(steps=[('cvec', CountVectorizer()),\n",
       "                                       ('rfc', RandomForestClassifier())]),\n",
       "             param_grid={'cvec__max_df': [0.9, 0.95], 'cvec__min_df': [2, 3],\n",
       "                         'cvec__ngram_range': [(1, 1), (1, 2)],\n",
       "                         'cvec__stop_words': [None, 'english']})"
      ]
     },
     "execution_count": 104,
     "metadata": {},
     "output_type": "execute_result"
    }
   ],
   "source": [
    "gs3.fit(X_train, y_train)"
   ]
  },
  {
   "cell_type": "code",
   "execution_count": 105,
   "id": "88140fa7",
   "metadata": {},
   "outputs": [
    {
     "data": {
      "text/plain": [
       "{'cvec__max_df': 0.95,\n",
       " 'cvec__min_df': 2,\n",
       " 'cvec__ngram_range': (1, 2),\n",
       " 'cvec__stop_words': 'english'}"
      ]
     },
     "execution_count": 105,
     "metadata": {},
     "output_type": "execute_result"
    }
   ],
   "source": [
    "gs3.best_params_"
   ]
  },
  {
   "cell_type": "code",
   "execution_count": 106,
   "id": "add2b843",
   "metadata": {},
   "outputs": [
    {
     "data": {
      "text/plain": [
       "0.856"
      ]
     },
     "execution_count": 106,
     "metadata": {},
     "output_type": "execute_result"
    }
   ],
   "source": [
    "gs3.score(X_test, y_test)"
   ]
  },
  {
   "cell_type": "code",
   "execution_count": 107,
   "id": "be2d0112",
   "metadata": {},
   "outputs": [
    {
     "data": {
      "text/plain": [
       "0.9953239812959251"
      ]
     },
     "execution_count": 107,
     "metadata": {},
     "output_type": "execute_result"
    }
   ],
   "source": [
    "gs3.score(X_train, y_train)"
   ]
  },
  {
   "cell_type": "code",
   "execution_count": 108,
   "id": "11bfe588",
   "metadata": {},
   "outputs": [
    {
     "name": "stderr",
     "output_type": "stream",
     "text": [
      "/Users/dimarhill/opt/anaconda3/lib/python3.9/site-packages/sklearn/utils/deprecation.py:87: FutureWarning: Function plot_confusion_matrix is deprecated; Function `plot_confusion_matrix` is deprecated in 1.0 and will be removed in 1.2. Use one of the class methods: ConfusionMatrixDisplay.from_predictions or ConfusionMatrixDisplay.from_estimator.\n",
      "  warnings.warn(msg, category=FutureWarning)\n"
     ]
    },
    {
     "data": {
      "image/png": "[encoded data removed]",
      "text/plain": [
       "<Figure size 432x288 with 2 Axes>"
      ]
     },
     "metadata": {
      "needs_background": "light"
     },
     "output_type": "display_data"
    }
   ],
   "source": [
    "plot_confusion_matrix(gs3, X_test, y_test, cmap='Reds', values_format='d', display_labels=['NFL', 'NBA']);\n",
    "plt.title('NBA/NFL ACCURACY RATE');"
   ]
  },
  {
   "cell_type": "markdown",
   "id": "04bb2b57",
   "metadata": {},
   "source": [
    "- 224/250 True/Positive for NFL\n",
    "- 204/250 True/Positive for NBA"
   ]
  },
  {
   "cell_type": "markdown",
   "id": "eed6de63",
   "metadata": {},
   "source": [
    "# Naive Bayes has the best Score"
   ]
  },
  {
   "cell_type": "code",
   "execution_count": null,
   "id": "c6e90470",
   "metadata": {},
   "outputs": [],
   "source": []
  }
 ],
 "metadata": {
  "kernelspec": {
   "display_name": "Python 3 (ipykernel)",
   "language": "python",
   "name": "python3"
  },
  "language_info": {
   "codemirror_mode": {
    "name": "ipython",
    "version": 3
   },
   "file_extension": ".py",
   "mimetype": "text/x-python",
   "name": "python",
   "nbconvert_exporter": "python",
   "pygments_lexer": "ipython3",
   "version": "3.9.12"
  }
 },
 "nbformat": 4,
 "nbformat_minor": 5
}
